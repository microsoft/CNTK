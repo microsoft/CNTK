{
 "cells": [
  {
   "cell_type": "code",
   "execution_count": 1,
   "metadata": {
    "collapsed": true
   },
   "outputs": [],
   "source": [
    "from IPython.display import Image"
   ]
  },
  {
   "cell_type": "markdown",
   "metadata": {},
   "source": [
    "Translated by [Naoto Usuyama](https://github.com/usuyama) December 22, 2017"
   ]
  },
  {
   "cell_type": "markdown",
   "metadata": {
    "nbpresent": {
     "id": "29b9bd1d-766f-4422-ad96-de0accc1ce58"
    }
   },
   "source": [
    "# CNTK 102:  Feed Forward Networkでシミュレーションデータの学習\n",
    "\n",
    "このチュートリアルでは、CNTK python library のコンポーネントをすばやく組み合わせ、**分類(classification)**タスクを行います。機械学習にすでに馴染みがあるか、Logistic Regressionのチュートリアルをお読み頂いた方は、*導入*セクションを飛ばして進めてください。\n",
    "\n",
    "## 導入\n",
    "\n",
    "**NOTE**: CNTK 101チュートリアルと同じ問題設定です。\n",
    "\n",
    "**問題設定 (分類問題)**:\n",
    "ある患者の腫瘍が良性か悪性かを判別して欲しいと、ある病院から依頼を受けました。与えられるデータは患者の年齢と腫瘍の大きさです。実際の現場では、より多くの特徴量を扱いデータが取得された病院や研究所も考慮しなければいけませんが、今回は簡単のためシミュレーションデータを使います。直感的には、若い患者で腫瘍のサイズが小さいほど、良性の可能性が高いような気がします。今回使うシミュレーションデータをプロットすると、下のような図になります(青が良性、赤が悪性) 。"
   ]
  },
  {
   "cell_type": "code",
   "execution_count": null,
   "metadata": {
    "collapsed": true
   },
   "outputs": [],
   "source": [
    "# Figure 1\n",
    "Image(url=\"https://www.cntk.ai/jup/cancer_data_plot.jpg\", width=400, height=400)"
   ]
  },
  {
   "cell_type": "markdown",
   "metadata": {},
   "source": [
    "**ゴール**:\n",
    "２つの特徴量(年齢、腫瘍の大きさ)から、患者の腫瘍が良性か悪性かを推定します。\n",
    "\n",
    "CNTK 101 チュートリアルでは、線形分類器である Logistic Regression を用いましたが、いくつか誤った分類をしてしまいました。多くの現実問題では良い特徴量を事前に得ることは難しく、線形分類器では良い精度を出せません。このチュートリアルでは CNTK 101 チュートリアルで作成した線形ユニットを組み合わせて非線形分類器を作ります。後半のチュートリアルでは、非線形分類器を用いてデータから自動的に良い特徴量を抽出する方法を学びます。\n",
    "\n",
    "**アプローチ**: \n",
    "一般的に、モデルの学習は5つのステップで行われます。(1) 読み込み (Data reading)、 (2) 前処理 (Data reprocessing)、(3) モデルの作成 (Creating a model)、 (4) モデルの学習 (Learning the model prameters)、(5) モデルの評価のうち、(3) にfeed forward networkを使う以外は、CNTK 101 チュートリアルと全て同じです。\n",
    "\n",
    "## Feed forward network model (順伝播型ネットワークモデル)\n",
    "\n",
    "今回のモデルは、複数のLogistic Regression分類器を組み合わせて、より複雑なクラスの境界(decision boundary)を表現できます。"
   ]
  },
  {
   "cell_type": "code",
   "execution_count": 2,
   "metadata": {},
   "outputs": [
    {
     "data": {
      "text/html": [
       "<img src=\"https://upload.wikimedia.org/wikipedia/en/5/54/Feed_forward_neural_net.gif\" width=\"200\" height=\"200\"/>"
      ],
      "text/plain": [
       "<IPython.core.display.Image object>"
      ]
     },
     "execution_count": 2,
     "metadata": {},
     "output_type": "execute_result"
    }
   ],
   "source": [
    "# Figure 2\n",
    "Image(url=\"https://upload.wikimedia.org/wikipedia/en/5/54/Feed_forward_neural_net.gif\", width=200, height=200)"
   ]
  },
  {
   "cell_type": "markdown",
   "metadata": {},
   "source": [
    "Feedforward neural network はユニット同士のネットワークが**サイクルにならない(ループを作らない)**ネットワークです。このネットワークでは、情報はインプットノードから隠れノードを通り、アウトプットノードへと一方向に流れます。"
   ]
  },
  {
   "cell_type": "code",
   "execution_count": 4,
   "metadata": {
    "nbpresent": {
     "id": "138d1a78-02e2-4bd6-a20e-07b83f303563"
    }
   },
   "outputs": [],
   "source": [
    "# Import the relevant components\n",
    "from __future__ import print_function # Use a function definition from future version (say 3.x from 2.7 interpreter)\n",
    "import matplotlib.pyplot as plt\n",
    "%matplotlib inline\n",
    "\n",
    "import numpy as np\n",
    "import sys\n",
    "import os\n",
    "\n",
    "import cntk as C\n",
    "import cntk.tests.test_utils\n",
    "cntk.tests.test_utils.set_device_from_pytest_env() # (only needed for our build system)\n",
    "C.cntk_py.set_fixed_random_seed(1) # fix a random seed for CNTK components"
   ]
  },
  {
   "cell_type": "markdown",
   "metadata": {},
   "source": [
    "## シミュレーションデータの生成\n",
    "\n",
    "CNTK 101 チュートリアルをご覧になった場合は、<a href='#Model Creation'>Model Creation</a>までスキップしてください。\n",
    "\n",
    "`numpy` ライブラリを使って腫瘍データを模したデータを生成します。それぞれのデータポイントは、2つの特徴量 (年齢と腫瘍の大きさ)を持ち、良性か悪性のどちらかのクラスに属します。\n",
    "\n",
    "今回は、2つのクラス(ラベル)は0か1で表されるので、バイナリ(二値)分類問題と言えます。"
   ]
  },
  {
   "cell_type": "code",
   "execution_count": 5,
   "metadata": {
    "collapsed": true
   },
   "outputs": [],
   "source": [
    "# Ensure we always get the same amount of randomness\n",
    "np.random.seed(0)\n",
    "\n",
    "# Define the data dimensions\n",
    "input_dim = 2\n",
    "num_output_classes = 2"
   ]
  },
  {
   "cell_type": "markdown",
   "metadata": {},
   "source": [
    "### 入力とラベル\n",
    "\n",
    "このチュートリアルではシミュレーションデータを使いますが、実際の問題では[reader][]を使ってデータを読み込みます。[reader][]の使い方については、後ほど扱います。シミュレーションで生成した年齢の値は、もう一つの変数(腫瘍の大きさ)と同じ範囲の値になるようにスケールダウンします。このスケールを調整する作業は重要な前処理なので、チュートリアルの後半でより詳しく扱う予定です。実際の問題でより多くの特徴量が利用可能な場合は、CNTKでは[tensor][]として多次元データを表します。[tensor][]についても後ほど扱う予定です。\n",
    "\n",
    "[reader]: https://github.com/Microsoft/CNTK/search?p=1&q=reader&type=Wikis&utf8=%E2%9C%93\n",
    "[tensor]: https://en.wikipedia.org/wiki/Tensor"
   ]
  },
  {
   "cell_type": "code",
   "execution_count": 6,
   "metadata": {
    "collapsed": true
   },
   "outputs": [],
   "source": [
    "# Helper function to generate a random data sample\n",
    "def generate_random_data_sample(sample_size, feature_dim, num_classes):\n",
    "    # Create synthetic data using NumPy. \n",
    "    Y = np.random.randint(size=(sample_size, 1), low=0, high=num_classes)\n",
    "\n",
    "    # Make sure that the data is separable\n",
    "    X = (np.random.randn(sample_size, feature_dim)+3) * (Y+1)\n",
    "    X = X.astype(np.float32)    \n",
    "    # converting class 0 into the vector \"1 0 0\", \n",
    "    # class 1 into vector \"0 1 0\", ...\n",
    "    class_ind = [Y==class_number for class_number in range(num_classes)]\n",
    "    Y = np.asarray(np.hstack(class_ind), dtype=np.float32)\n",
    "    return X, Y   "
   ]
  },
  {
   "cell_type": "code",
   "execution_count": 7,
   "metadata": {},
   "outputs": [],
   "source": [
    "# Create the input variables denoting the features and the label data. Note: the input \n",
    "# does not need additional info on number of observations (Samples) since CNTK first create only \n",
    "# the network tooplogy first \n",
    "mysamplesize = 64\n",
    "features, labels = generate_random_data_sample(mysamplesize, input_dim, num_output_classes)\n"
   ]
  },
  {
   "cell_type": "markdown",
   "metadata": {},
   "source": [
    "入力データを可視化してみましょう。\n",
    "\n",
    "**Note**: もしimport `matplotlib.pyplot` が失敗した場合、`conda install matplotlib` か `pip install` を使って、`pyplot` バージョン依存を解決してください。"
   ]
  },
  {
   "cell_type": "code",
   "execution_count": 8,
   "metadata": {},
   "outputs": [
    {
     "data": {
      "image/png": "[encoded data removed]",
      "text/plain": [
       "<matplotlib.figure.Figure at 0x7f8d1d1fbc50>"
      ]
     },
     "metadata": {},
     "output_type": "display_data"
    }
   ],
   "source": [
    "# Plot the data \n",
    "import matplotlib.pyplot as plt\n",
    "%matplotlib inline\n",
    "\n",
    "# given this is a 2 class \n",
    "colors = ['r' if l == 0 else 'b' for l in labels[:,0]]\n",
    "\n",
    "plt.scatter(features[:,0], features[:,1], c=colors)\n",
    "plt.xlabel(\"Scaled age (in yrs)\")\n",
    "plt.ylabel(\"Tumor size (in cm)\")\n",
    "plt.show()"
   ]
  },
  {
   "cell_type": "markdown",
   "metadata": {},
   "source": [
    "<a id='#Model Creation'></a>\n",
    "## モデルの作成\n",
    "\n",
    "今回のネットワークは、隠れノード数50(`hidden_layers_dim`)の隠れレイヤー(`num_hidden_layers`)が2層です。"
   ]
  },
  {
   "cell_type": "code",
   "execution_count": 9,
   "metadata": {},
   "outputs": [
    {
     "data": {
      "text/html": [
       "<img src=\"http://cntk.ai/jup/feedforward_network.jpg\" width=\"200\" height=\"200\"/>"
      ],
      "text/plain": [
       "<IPython.core.display.Image object>"
      ]
     },
     "execution_count": 9,
     "metadata": {},
     "output_type": "execute_result"
    }
   ],
   "source": [
    "# Figure 3\n",
    "Image(url=\"http://cntk.ai/jup/feedforward_network.jpg\", width=200, height=200)"
   ]
  },
  {
   "cell_type": "markdown",
   "metadata": {},
   "source": [
    "上図は簡略化してありますが、緑の2層の隠れレイヤーは、それぞれ50個(`hidden_layers_dim`)の隠れノードを持ちます。また、上図では省略されていますが、各隠れレイヤーはバイアスノードを持ちます。"
   ]
  },
  {
   "cell_type": "code",
   "execution_count": 10,
   "metadata": {
    "collapsed": true
   },
   "outputs": [],
   "source": [
    "num_hidden_layers = 2\n",
    "hidden_layers_dim = 50"
   ]
  },
  {
   "cell_type": "markdown",
   "metadata": {},
   "source": [
    "CNTKにおける、ネットワークの入力:\n",
    "-- **input** 変数\n",
    "> CNTKでは、input_variable 関数を使って、入力コンテナを作ります。今回は、特徴量は2つなので、次元数2の入力コンテナを作ります。"
   ]
  },
  {
   "cell_type": "code",
   "execution_count": 11,
   "metadata": {},
   "outputs": [],
   "source": [
    "# The input variable (representing 1 observation, in our example of age and size) x, which \n",
    "# in this case has a dimension of 2. \n",
    "#\n",
    "# The label variable has a dimensionality equal to the number of output classes in our case 2. \n",
    "\n",
    "input = C.input_variable(input_dim)\n",
    "label = C.input_variable(num_output_classes)"
   ]
  },
  {
   "cell_type": "markdown",
   "metadata": {},
   "source": [
    "## Feed forward Network のセットアップ\n",
    "\n",
    "それでは、Feedforward Network を構成していきます。最初のレイヤーは、入力となる$m$次元(`input_dim`)の特徴量ベクター($\\bf{x}$)を受け取り、*evidence*を出力します。*evidence* ($\\bf{z_1}$) は、$n$ (`hidden_layer_dim`) 次元のベクターです。それぞれの特徴量に、行列 $\\bf{W}$ (サイズ $m \\times n$)で表される重みを掛けて、*evidence* は計算できます。Note: **太字**は行列/ベクターを表します。\n",
    "\n",
    "$$\\bf{z_1} = \\bf{W} \\cdot \\bf{x} + \\bf{b}$$ \n",
    "\n",
    "ただし、$\\bf{b}$は$n$のバイアスベクターです。\n",
    "\n",
    "`linear_layer`関数では、上の数式で表されている通り、\n",
    "0. CNTKのtimesオペレーションを使って、重み行列($\\bf{W}$を特徴量ベクター($\\bf{x}$)に掛け、\n",
    "1. 最後に、バイアスベクターを足します。\n",
    "\n",
    "重み行列とバイアスベクターは、CNTKの[parameter][]として定義されています。\n",
    "\n",
    "[parameter]: https://www.cntk.ai/pythondocs/cntk.ops.html?highlight=parameter#cntk.ops.parameter"
   ]
  },
  {
   "cell_type": "code",
   "execution_count": 12,
   "metadata": {
    "collapsed": true
   },
   "outputs": [],
   "source": [
    "def linear_layer(input_var, output_dim):\n",
    "    input_dim = input_var.shape[0]\n",
    "    \n",
    "    weight = C.parameter(shape=(input_dim, output_dim))\n",
    "    bias = C.parameter(shape=(output_dim))\n",
    "\n",
    "    return bias + C.times(input_var, weight)"
   ]
  },
  {
   "cell_type": "markdown",
   "metadata": {},
   "source": [
    "次に、*evidence* (`linear_layer`の出力)を、*activation functions* という非線形な関数で変換します。様々な[activation functions][]があり、**Sigmoid**や**Tanh**が歴史的に人気ですが、今回は**Sigmoid**関数を使います。\n",
    "\n",
    "**質問**: ぜひ、他の[activation functions][]を、`nonlinearity`引数に渡して、試してみてください。\n",
    "\n",
    "[activation functions]: https://github.com/Microsoft/CNTK/wiki/Activation-Functions"
   ]
  },
  {
   "cell_type": "code",
   "execution_count": 13,
   "metadata": {
    "collapsed": true
   },
   "outputs": [],
   "source": [
    "def dense_layer(input_var, output_dim, nonlinearity):\n",
    "    l = linear_layer(input_var, output_dim)\n",
    "    \n",
    "    return nonlinearity(l)"
   ]
  },
  {
   "cell_type": "markdown",
   "metadata": {},
   "source": [
    "これで、隠れレイヤーが1つできたので、1つ目のレイヤーの出力 ($\\bf{h_1}$) を２つ目の隠れレイヤーの入力にして、レイヤー同士を繋げます。\n",
    "\n",
    "今回は2層だけなので、このように書けます。\n",
    "\n",
    ">`h1 = fully_connected_layer(input, hidden_layer_dim, sigmoid)`\n",
    "\n",
    ">`h2 = fully_connected_layer(h1, hidden_layer_dim, sigmoid)`\n",
    "\n",
    "後半のチュートリアルのように、より多くのレイヤーが必要な場合(convolutional networkやrecurrent network)でも、\n",
    "\n",
    ">`h = fully_connected_layer(input, hidden_layer_dim, sigmoid)`\n",
    "\n",
    ">`for i in range(1, num_hidden_layers):`\n",
    "       \n",
    ">>`h = fully_connected_layer(h, hidden_layer_dim, sigmoid)`\n",
    "\n",
    "このように簡潔に表現できます。"
   ]
  },
  {
   "cell_type": "code",
   "execution_count": 14,
   "metadata": {
    "collapsed": true
   },
   "outputs": [],
   "source": [
    "# Define a multilayer feedforward classification model\n",
    "def fully_connected_classifier_net(input_var, num_output_classes, hidden_layer_dim, \n",
    "                                   num_hidden_layers, nonlinearity):\n",
    "    \n",
    "    h = dense_layer(input_var, hidden_layer_dim, nonlinearity)\n",
    "    for i in range(1, num_hidden_layers):\n",
    "        h = dense_layer(h, hidden_layer_dim, nonlinearity)\n",
    "    \n",
    "    return linear_layer(h, num_output_classes)"
   ]
  },
  {
   "cell_type": "markdown",
   "metadata": {},
   "source": [
    "`z` はネットワーク全体のアウトプットになります。"
   ]
  },
  {
   "cell_type": "code",
   "execution_count": 16,
   "metadata": {},
   "outputs": [],
   "source": [
    "# Create the fully connected classfier\n",
    "z = fully_connected_classifier_net(input, num_output_classes, hidden_layers_dim, \n",
    "                                   num_hidden_layers, C.sigmoid)"
   ]
  },
  {
   "cell_type": "markdown",
   "metadata": {},
   "source": [
    "CNTK primitives を使ってネットワークを記述する方法を紹介しましたが、 [layers library](https://www.cntk.ai/pythondocs/layerref.html) を使った方が実際には便利です。 It provides predefined commonly used “layers” (lego like blocks), which simplifies the design of networks that consist of standard layers layered on top of each other. For instance, ``dense_layer`` is already easily accessible through the [Dense](https://www.cntk.ai/pythondocs/layerref.html#dense) layer function to compose our deep model. We can pass the input variable (`input`) to this model to get the network output. \n",
    "\n",
    "**Suggested task**: Please go through the model defined above and the output of the `create_model` function and convince yourself that the implementation below encapsulates the code above.\n"
   ]
  },
  {
   "cell_type": "code",
   "execution_count": 17,
   "metadata": {
    "collapsed": true
   },
   "outputs": [],
   "source": [
    "def create_model(features):\n",
    "    with C.layers.default_options(init=C.layers.glorot_uniform(), activation=C.sigmoid):\n",
    "        h = features\n",
    "        for _ in range(num_hidden_layers):\n",
    "            h = C.layers.Dense(hidden_layers_dim)(h)\n",
    "        last_layer = C.layers.Dense(num_output_classes, activation = None)\n",
    "        \n",
    "        return last_layer(h)\n",
    "        \n",
    "z = create_model(input)"
   ]
  },
  {
   "cell_type": "markdown",
   "metadata": {},
   "source": [
    "### モデルパラメータの学習\n",
    "\n",
    "ネットワークのセットアップできたので、それぞれのレイヤーが持つパラメータ $\\bf w$ と $\\bf b$ を学習していきます。そのため、`softmax`関数で最終的な`evidence`($\\bf z_{final~layer}$)を、確率分布\\textbf{p}に変換します。\n",
    "\n",
    "$$ \\textbf{p} = \\mathrm{softmax}(\\bf{z_{final~layer}})$$ \n",
    "\n",
    "[softmax function][]の処理は、計算されたevidenceをクラス分類の確率分布に変換するような、activation関数としても考えられます。他のactivation関数は[こちら][]を参照ください。\n",
    "\n",
    "[softmax function]: https://www.cntk.ai/pythondocs/cntk.ops.html?highlight=softmax#cntk.ops.softmax\n",
    "\n",
    "[こちら]: https://github.com/Microsoft/CNTK/wiki/Activation-Functions"
   ]
  },
  {
   "cell_type": "markdown",
   "metadata": {},
   "source": [
    "## 学習\n",
    "\n",
    "CNTK 101 チュートリアルをご覧になった場合は、<a href='#Run the trainer'>Run the trainer</a>まで飛ばしてください。\n",
    "\n",
    "上で述べたように、`softmax`関数の出力は観測値がそれぞれのクラスに属する確率になります。推定された確率分布が正解の分布にどれくらい近いかを表す関数を*cost*関数または*loss*関数といいます。*cost*関数または*loss*関数の値が小さくなるように、つまり、出力された確率が正解のクラスになるべく近くなるようにモデルの学習を行っていきます。\n",
    "\n",
    "*cost/loss* 関数として、[`Cross-entropy`][]はよく使われており、確率分布同士の近さを非負の値で返します。\n",
    "\n",
    "$$ H(p) = - \\sum_{j=1}^C y_j \\log (p_j) $$\n",
    "\n",
    "$p$ は`softmax`関数による推定確率分布、$y$は正解ラベル(ground-truth)です。2クラス問題の場合、`label`変数は2次元(`num_output_classes`と$C$に等しい)です。$y$、$p$共に、該当するクラスの要素が1、それ以外($C-1$次元)の要素は0の、$C$次元ベクターでは表されます。後ほど時間を取ってCross-Entropyを[よく理解する][]ことをおすすめします。\n",
    "\n",
    "[`cross-entropy`]: http://cntk.ai/pythondocs/cntk.ops.html#cntk.ops.cross_entropy_with_softmax\n",
    "[よく理解する]: http://colah.github.io/posts/2015-09-Visual-Information/"
   ]
  },
  {
   "cell_type": "code",
   "execution_count": 13,
   "metadata": {},
   "outputs": [],
   "source": [
    "loss = cross_entropy_with_softmax(z, label)"
   ]
  },
  {
   "cell_type": "markdown",
   "metadata": {},
   "source": [
    "#### 評価\n",
    "\n",
    "`loss`関数を基準に学習したモデルを、[`classificaiton_error`][]関数を使って評価します。モデルの出力結果と正解(ground-truth)がいくつ一致したかを返します。\n",
    "\n",
    "[`classificaiton_error`]: https://www.cntk.ai/pythondocs/cntk.ops.html#cntk.ops.classification_error"
   ]
  },
  {
   "cell_type": "code",
   "execution_count": 14,
   "metadata": {},
   "outputs": [],
   "source": [
    "eval_error = classification_error(z, label)"
   ]
  },
  {
   "cell_type": "markdown",
   "metadata": {},
   "source": [
    "### 学習の調整\n",
    "\n",
    "`loss`関数を小さくするために様々な最適化手法([optimization][])がありますが、今回は[Stochastic Gradient Descent][] (`sgd`)を使います。通常`sgd`では、ランダムな値でパラメータを初期化し、最急降下法([gradient-decent][])で反復的にパラメータを最適化していきます。それぞれのイテレーション(反復)では、データの一部を取り出して(*minibatch*と呼ぶ)、パラメータの更新に使います。大規模なデータセットに対してもメモリにのる分だけ*minibatch*として取り出し、効率的に学習を進められます。`loss`関数の値があまり変わらなくなるか、指定回数以上反復したら、学習を終了します。\n",
    "\n",
    "最適化の際の重要なパラメータとして`learning_rate`があります。今のところ\"一度のイテレーションでどの程度パラメータを変化させるか\"を調節するパラメータと考えておけば大丈夫ですが、より詳しくはチュートリアルの後半で扱う予定です。\n",
    "\n",
    "[optimization]: https://en.wikipedia.org/wiki/Category:Convex_optimization\n",
    "[Stochastic Gradient Descent]: https://en.wikipedia.org/wiki/Stochastic_gradient_descent\n",
    "[gradient-decent]: http://www.statisticsviews.com/details/feature/5722691/Getting-to-the-Bottom-of-Regression-with-Gradient-Descent.html"
   ]
  },
  {
   "cell_type": "code",
   "execution_count": 15,
   "metadata": {},
   "outputs": [],
   "source": [
    "# Instantiate the trainer object to drive the model training\n",
    "learning_rate_per_sample = 0.02\n",
    "learner = sgd(z.parameters, lr=learning_rate_per_sample)\n",
    "trainer = Trainer(z, loss, eval_error, [learner])"
   ]
  },
  {
   "cell_type": "markdown",
   "metadata": {},
   "source": [
    "学習の様子を可視化するためのヘルパー関数を用意しておきます。"
   ]
  },
  {
   "cell_type": "code",
   "execution_count": 16,
   "metadata": {},
   "outputs": [],
   "source": [
    "from cntk.utils import get_train_eval_criterion, get_train_loss\n",
    "\n",
    "# Define a utiltiy function to compute moving average sum (\n",
    "# More efficient implementation is possible with np.cumsum() function\n",
    "def moving_average(a, w=10) :\n",
    "    \n",
    "    if len(a) < w: \n",
    "        return a[:]    #Need to send a copy of the array\n",
    "    return [val if idx < w else sum(a[(idx-w):idx])/w for idx, val in enumerate(a)]\n",
    "\n",
    "\n",
    "# Defines a utility that prints the training progress\n",
    "def print_training_progress(trainer, mb, frequency, verbose=1):\n",
    "    \n",
    "    training_loss = \"NA\"\n",
    "    eval_error = \"NA\"\n",
    "\n",
    "    if mb%frequency == 0:\n",
    "        training_loss = get_train_loss(trainer)\n",
    "        eval_error = get_train_eval_criterion(trainer)\n",
    "        if verbose: \n",
    "            print (\"Minibatch: {}, Train Loss: {}, Train Error: {}\".format(mb, training_loss, eval_error))\n",
    "        \n",
    "    return mb, training_loss, eval_error"
   ]
  },
  {
   "cell_type": "markdown",
   "metadata": {},
   "source": [
    "<a id='#Run the trainer'></a>\n",
    "### 学習\n",
    "\n",
    "今回は、一回のイテレーションで使うサンプル数(`minibatch_size`)を25、学習する総サンプル数(`num_samples_to_train`)を20000と設定します。シミュレーションデータなので幾らでもサンプルを生成できますが、実際の問題では答え(ground-truth)がわかっているデータのうち、例えば70%で学習をし、残り30%で学習したモデルの評価をする事があります。\n",
    "\n",
    "これでFeed Forawrdネットワークを学習する準備ができました。"
   ]
  },
  {
   "cell_type": "code",
   "execution_count": 17,
   "metadata": {
    "collapsed": true
   },
   "outputs": [],
   "source": [
    "#Initialize the parameters for the trainer\n",
    "minibatch_size = 25\n",
    "num_samples = 20000\n",
    "num_minibatches_to_train = num_samples / minibatch_size"
   ]
  },
  {
   "cell_type": "code",
   "execution_count": 18,
   "metadata": {},
   "outputs": [],
   "source": [
    "#Run the trainer on and perform model training\n",
    "training_progress_output_freq = 20\n",
    "\n",
    "plotdata = {\"batchsize\":[], \"loss\":[], \"error\":[]}\n",
    "\n",
    "for i in range(0, int(num_minibatches_to_train)):\n",
    "    features, labels = generate_random_data_sample(minibatch_size, input_dim, num_output_classes)\n",
    "    \n",
    "    # Specify the input variables mapping in the model to actual minibatch data for training\n",
    "    trainer.train_minibatch({input : features, label : labels})\n",
    "    batchsize, loss, error = print_training_progress(trainer, i, \n",
    "                                                     training_progress_output_freq, verbose=0)\n",
    "    \n",
    "    if not (loss == \"NA\" or error ==\"NA\"):\n",
    "        plotdata[\"batchsize\"].append(batchsize)\n",
    "        plotdata[\"loss\"].append(loss)\n",
    "        plotdata[\"error\"].append(error)\n"
   ]
  },
  {
   "cell_type": "markdown",
   "metadata": {},
   "source": [
    "次々にminibatchをモデルに渡し、トレーニングしていく過程のエラーの様子をプロットしてみます。徐々にトレーニングロスは減っていきますが、所々でバンプしている箇所があります。これは、学習の途中に見慣れないデータがminibatchに含まれると起こります。\n",
    "\n",
    "バンプを減らす一つの方法は、minibatchのサイズを大きくすることです。今回のチュートリアルのような小さなデータでは、データセット全体を毎回の反復に使うことも可能ですが、実際の大規模なデータには何度も勾配の計算を繰り返すのは現実的ではありません。\n",
    "\n",
    "今回は`sgd` (stochastic gradient descent) を使っていますが、CNTKで利用可能なより高度な最適化手法を、後半のチュートリアルで紹介する予定です。"
   ]
  },
  {
   "cell_type": "code",
   "execution_count": 19,
   "metadata": {},
   "outputs": [
    {
     "data": {
      "image/png": "[encoded data removed]",
      "text/plain": [
       "<matplotlib.figure.Figure at 0x7f386f007160>"
      ]
     },
     "metadata": {},
     "output_type": "display_data"
    },
    {
     "data": {
      "image/png": "[encoded data removed]",
      "text/plain": [
       "<matplotlib.figure.Figure at 0x7f386f022710>"
      ]
     },
     "metadata": {},
     "output_type": "display_data"
    }
   ],
   "source": [
    "#Compute the moving average loss to smooth out the noise in SGD    \n",
    "\n",
    "plotdata[\"avgloss\"] = moving_average(plotdata[\"loss\"])\n",
    "plotdata[\"avgerror\"] = moving_average(plotdata[\"error\"])\n",
    "\n",
    "#Plot the training loss and the training error\n",
    "import matplotlib.pyplot as plt\n",
    "\n",
    "plt.figure(1)\n",
    "plt.subplot(211)\n",
    "plt.plot(plotdata[\"batchsize\"], plotdata[\"avgloss\"], 'b--')\n",
    "plt.xlabel('Minibatch number')\n",
    "plt.ylabel('Loss')\n",
    "plt.title('Minibatch run vs. Training loss ')\n",
    "\n",
    "plt.show()\n",
    "\n",
    "plt.subplot(212)\n",
    "plt.plot(plotdata[\"batchsize\"], plotdata[\"avgerror\"], 'r--')\n",
    "plt.xlabel('Minibatch number')\n",
    "plt.ylabel('Label Prediction Error')\n",
    "plt.title('Minibatch run vs. Label Prediction Error ')\n",
    "plt.show()"
   ]
  },
  {
   "cell_type": "markdown",
   "metadata": {},
   "source": [
    "## 評価 / テスト\n",
    "\n",
    "これでネットワークの学習ができました。学習に使っていないデータを分類してみて、ネットワークの性能を評価してみましょう(**testing**と言う)。シミュレーションデータをさらに生成し、`trainer.test_minibatch`関数で予測を行います。"
   ]
  },
  {
   "cell_type": "code",
   "execution_count": 20,
   "metadata": {},
   "outputs": [
    {
     "data": {
      "text/plain": [
       "0.12"
      ]
     },
     "execution_count": 20,
     "metadata": {},
     "output_type": "execute_result"
    }
   ],
   "source": [
    "#Generate new data\n",
    "test_minibatch_size = 25\n",
    "features, labels = generate_random_data_sample(test_minibatch_size, input_dim, num_output_classes)\n",
    "\n",
    "trainer.test_minibatch({input : features, label : labels})  "
   ]
  },
  {
   "cell_type": "markdown",
   "metadata": {},
   "source": [
    "テスト結果 (汎化誤差、\"out of sample\" エラーとも呼ぶ) は、ほぼトレーニングエラーと同じになりました。これは、新しいデータ (学習に使っていないデータ) に対してもうまくモデルが働いていると考えられます。"
   ]
  },
  {
   "cell_type": "markdown",
   "metadata": {},
   "source": [
    "ここまでは集計したエラーを確認してきましたが、ここでそれぞれのデータポイントの様子を確認してみます。ネットワークの出力を`softmax`関数を通し、`eval`関数を使うと推定された確率が得られます。確率は2次元ベクター(2クラス問題なので)で表されます。\n",
    "\n",
    "<img src=\"http://cntk.ai/jup/feedforward_network.jpg\",width=200, height=200>\n",
    "\n",
    "#### なぜ、`softmax`関数をネットワークの出力に通す必要があるのでしょうか？"
   ]
  },
  {
   "cell_type": "code",
   "execution_count": 21,
   "metadata": {},
   "outputs": [],
   "source": [
    "out = softmax(z)"
   ]
  },
  {
   "cell_type": "markdown",
   "metadata": {},
   "source": [
    "まだ見ていないデータを分類してみましょう。"
   ]
  },
  {
   "cell_type": "code",
   "execution_count": 22,
   "metadata": {},
   "outputs": [],
   "source": [
    "predicted_label_prob = out.eval({input : features})"
   ]
  },
  {
   "cell_type": "code",
   "execution_count": 23,
   "metadata": {},
   "outputs": [
    {
     "name": "stdout",
     "output_type": "stream",
     "text": [
      "Label    : [1 0 0 1 1 1 0 1 1 0 1 1 1 0 1 0 1 1 0 0 1 0 0 0 1]\n",
      "Predicted: [1 0 0 0 0 0 0 1 1 0 1 1 1 0 1 0 1 1 0 0 1 0 0 0 1]\n"
     ]
    }
   ],
   "source": [
    "print(\"Label    :\", np.argmax(labels[:25],axis=1))\n",
    "print(\"Predicted:\", np.argmax(predicted_label_prob[0,:25,:],axis=1))"
   ]
  },
  {
   "cell_type": "markdown",
   "metadata": {
    "collapsed": true
   },
   "source": [
    "**実験のヒント**\n",
    "- シミュレーションデータの分布を変えると、分類機はどう動作するでしょうか？\n",
    "- パラメータを変えてみるとどうなるでしょうか？例えば、minibatch_sizeを25から64にしてみてください。エラーレートはどうなるでしょうか？Logistic regression (前回のチュートリアル) と比べると、エラーレートはどうでしょうか?\n",
    "- 違う最適化手法 (例えば、Adam (`fsadagrad`))を試してみてください。\n",
    "    learner = fsadagrad(z.parameters(), 0.02, 0, targetAdagradAvDenom=1)\n",
    "- ネットワークを変更して、トレーニングエラーを減らすますか？どのタイミングで*overfitting*が起きるか確認してみてください。"
   ]
  },
  {
   "cell_type": "markdown",
   "metadata": {
    "collapsed": true
   },
   "source": [
    "#### コード\n",
    "- [FeedForwardNet.py][]\n",
    "\n",
    "[FeedForwardNet.py]: https://github.com/Microsoft/CNTK/blob/v2.0.beta2.0/bindings/python/examples/NumpyInterop/FeedForwardNet.py"
   ]
  },
  {
   "cell_type": "code",
   "execution_count": null,
   "metadata": {
    "collapsed": true
   },
   "outputs": [],
   "source": []
  },
  {
   "cell_type": "code",
   "execution_count": null,
   "metadata": {
    "collapsed": true
   },
   "outputs": [],
   "source": []
  }
 ],
 "metadata": {
  "anaconda-cloud": {},
  "kernelspec": {
   "display_name": "Python 3",
   "language": "python",
   "name": "python3"
  },
  "language_info": {
   "codemirror_mode": {
    "name": "ipython",
    "version": 3
   },
   "file_extension": ".py",
   "mimetype": "text/x-python",
   "name": "python",
   "nbconvert_exporter": "python",
   "pygments_lexer": "ipython3",
   "version": "3.5.2"
  }
 },
 "nbformat": 4,
 "nbformat_minor": 1
}
