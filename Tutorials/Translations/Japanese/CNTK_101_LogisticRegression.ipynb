{
 "cells": [
  {
   "cell_type": "code",
   "execution_count": 1,
   "metadata": {
    "collapsed": true
   },
   "outputs": [],
   "source": [
    "from IPython.display import Image"
   ]
  },
  {
   "cell_type": "markdown",
   "metadata": {},
   "source": [
    "Translated by [Naoto Usuyama](https://github.com/usuyama) December 22, 2017"
   ]
  },
  {
   "cell_type": "markdown",
   "metadata": {
    "collapsed": true
   },
   "source": [
    "# CNTK 101: Logistic Regression と機械学習への導入\n",
    "\n",
    "このチュートリアルでは、機械学習とCNTKに新しくふれる方を対象に、シンプルながら強力なモデルを学習していきます。CNTKは、様々な計算資源 (CPU、GPU、CPU/GPUのクラスタ) に対応しているため、このチュートリアルで学習したモデルは大規模なデータにも適応することができます。\n",
    "\n",
    "このJupyterノートブックはPython APIを使用しています。Brainscriptを使った例は[こちら](https://github.com/Microsoft/CNTK/tree/v2.0.beta2.0/Examples/Tutorials/LogisticRegressionAndMultiClass)をご覧ください。\n",
    "\n",
    "## 導入\n",
    "\n",
    "**問題設定 (分類問題)**:\n",
    "ある患者の腫瘍が、良性か悪性かを判別して欲しいと、ある病院から依頼を受けました。与えられるデータは、患者の年齢と腫瘍の大きさです。実際の現場では、より多くの特徴量を扱い、データが取得された病院や研究所も考慮しなければいけませんが、今回は簡単のためシミュレーションデータを使います。直感的には、若い患者で腫瘍のサイズが小さいほど、良性の可能性が高いような気がします。今回使うシミュレーションデータをプロットすると、下のような図になります(青が良性、赤が悪性) 。"
   ]
  },
  {
   "cell_type": "code",
   "execution_count": 2,
   "metadata": {},
   "outputs": [
    {
     "data": {
      "text/html": [
       "<img src=\"https://www.cntk.ai/jup/cancer_data_plot.jpg\" width=\"400\" height=\"400\"/>"
      ],
      "text/plain": [
       "<IPython.core.display.Image object>"
      ]
     },
     "execution_count": 2,
     "metadata": {},
     "output_type": "execute_result"
    }
   ],
   "source": [
    "# Figure 1\n",
    "Image(url=\"https://www.cntk.ai/jup/cancer_data_plot.jpg\", width=400, height=400)"
   ]
  },
  {
   "cell_type": "markdown",
   "metadata": {},
   "source": [
    "**ゴール**:\n",
    "２つの特徴量(年齢、腫瘍の大きさ)から、患者の腫瘍が良性か悪性かを推定します。今回は、ディープラーニングの基礎となる線形分類器を作ります。"
   ]
  },
  {
   "cell_type": "code",
   "execution_count": 3,
   "metadata": {},
   "outputs": [
    {
     "data": {
      "text/html": [
       "<img src=\"https://www.cntk.ai/jup/cancer_classify_plot.jpg\" width=\"400\" height=\"400\"/>"
      ],
      "text/plain": [
       "<IPython.core.display.Image object>"
      ]
     },
     "execution_count": 3,
     "metadata": {},
     "output_type": "execute_result"
    }
   ],
   "source": [
    "# Figure 2\n",
    "Image(url= \"https://www.cntk.ai/jup/cancer_classify_plot.jpg\", width=400, height=400)"
   ]
  },
  {
   "cell_type": "markdown",
   "metadata": {},
   "source": [
    "上の図では、緑の線が学習された線形モデルを表しています。この例では、いくつか青い点を間違って分類してしまっていますが、後ほど改善する手法についても学びます。\n",
    "\n",
    "**アプローチ**: \n",
    "一般的に、5つのステップでモデルの学習は行われます。\n",
    "\n",
    ">1. データの読み込み (Data reading): 今回は、シミュレーションでデータを生成しますが、一般にはファイルやデータベースからデータを読み込みます。\n",
    ">2. データの前処理 (Data preprocessing): 一般的には、偏りを避けるため、各特徴量を0から1にスケールし直す標準化を行いますが、今回は簡単のため省略します。詳しくは、[feature scaling](https://en.wikipedia.org/wiki/Feature_scaling) を参照ください。\n",
    ">3. モデルの作成 (Model creation): このチュートリアルでは、基本の線形モデルを使います。 \n",
    ">4. モデルの学習 (Learning the model): 線形モデル ([linear regression](https://en.wikipedia.org/wiki/Linear_regression)) の学習は色々な手法がありますが、今回は確率的勾配降下法 (Stochastic Gradient Descent a.k.a. [SGD](https://en.wikipedia.org/wiki/Stochastic_gradient_descent)) を用います。モデルの学習は、トレーニングとも呼びます。\n",
    ">5. 評価 (Evaluation): 学習したモデルが、実際にうまく働くかどうかを評価します。モデルの学習に用いなかった、答え (ground-truth) がわかっているデータを用いて、モデルの分類結果と答えが合うかどうかを確認します。\n",
    "\n",
    "## Logistic Regression\n",
    "[Logistic regression](https://en.wikipedia.org/wiki/Logistic_regression) は機械学習の基礎的な手法で、特徴量に線形の重みを付け、分類結果の確率を出力します。今回の例では、0から1の値として確率が出力されるので、ある閾値 (例えば0.5) を決めると2クラスの分類ができます。2クラス以上への拡張も簡単にできます。\n"
   ]
  },
  {
   "cell_type": "code",
   "execution_count": 4,
   "metadata": {},
   "outputs": [
    {
     "data": {
      "text/html": [
       "<img src=\"https://www.cntk.ai/jup/logistic_neuron.jpg\" width=\"300\" height=\"200\"/>"
      ],
      "text/plain": [
       "<IPython.core.display.Image object>"
      ]
     },
     "execution_count": 4,
     "metadata": {},
     "output_type": "execute_result"
    }
   ],
   "source": [
    "# Figure 3\n",
    "Image(url= \"https://www.cntk.ai/jup/logistic_neuron.jpg\", width=300, height=200)"
   ]
  },
  {
   "cell_type": "markdown",
   "metadata": {},
   "source": [
    "上の図は、モデルが入力されたそれぞれの特徴量に重みを付け、集約し、確率を出力する様子を表しています。2クラスの場合は、シグモイド関数 ([sigmoid](https://en.wikipedia.org/wiki/Sigmoid_function) function) で0から1の値に集約され、多クラスの場合は、ソフトマックス関数  ([softmax](https://en.wikipedia.org/wiki/Softmax_function) function) で0から1の値の要素を持ったベクトルに集約されます。"
   ]
  },
  {
   "cell_type": "code",
   "execution_count": 5,
   "metadata": {
    "collapsed": true
   },
   "outputs": [],
   "source": [
    "# Import the relevant components\n",
    "from __future__ import print_function\n",
    "import numpy as np\n",
    "import sys\n",
    "import os\n",
    "\n",
    "import cntk as C\n",
    "import cntk.tests.test_utils\n",
    "cntk.tests.test_utils.set_device_from_pytest_env() # (only needed for our build system)\n",
    "C.cntk_py.set_fixed_random_seed(1) # fix the random seed so that LR examples are repeatable"
   ]
  },
  {
   "cell_type": "markdown",
   "metadata": {},
   "source": [
    "## シミュレーションデータの生成\n",
    "`numpy` ライブラリを使って、腫瘍データを模したデータを生成します。それぞれのデータポイントは、2つの特徴量 (年齢と腫瘍の大きさ)を持ち、良性か悪性のどちらかのクラスに属します。\n",
    "\n",
    "今回は、2つのクラス(ラベル)は0か1で表せるので、バイナリ(二値)分類問題と言えます。"
   ]
  },
  {
   "cell_type": "code",
   "execution_count": 6,
   "metadata": {
    "collapsed": true
   },
   "outputs": [],
   "source": [
    "# Define the network\n",
    "input_dim = 2\n",
    "num_output_classes = 2"
   ]
  },
  {
   "cell_type": "markdown",
   "metadata": {},
   "source": [
    "### 入力とラベル\n",
    "\n",
    "今回はシミュレーションデータを使いますが、実際の問題では[reader][]を使ってデータを読み込みます。[reader][]の使い方については、後ほど扱います。シミュレーションで生成した年齢の値は、もう一つの変数(腫瘍の大きさ)と同じ範囲の値になるようにスケールダウンします。このスケールを調整する作業は、重要な前処理なので、チュートリアルの後半でより詳しく扱う予定です。実際の問題で、より多くの特徴量が利用可能な場合は、CNTKでは[tensor][]として多次元データを表します。[tensor][]についても後ほど扱う予定です。\n",
    "\n",
    "[reader]: https://github.com/Microsoft/CNTK/search?p=1&q=reader&type=Wikis&utf8=%E2%9C%93\n",
    "[tensor]: https://en.wikipedia.org/wiki/Tensor"
   ]
  },
  {
   "cell_type": "code",
   "execution_count": 7,
   "metadata": {
    "collapsed": true
   },
   "outputs": [],
   "source": [
    "# Ensure that we always get the same results\n",
    "np.random.seed(0)\n",
    "\n",
    "# Helper function to generate a random data sample\n",
    "def generate_random_data_sample(sample_size, feature_dim, num_classes):\n",
    "    # Create synthetic data using NumPy. \n",
    "    Y = np.random.randint(size=(sample_size, 1), low=0, high=num_classes)\n",
    "\n",
    "    # Make sure that the data is separable \n",
    "    X = (np.random.randn(sample_size, feature_dim)+3) * (Y+1)\n",
    "    \n",
    "    # Specify the data type to match the input variable used later in the tutorial \n",
    "    # (default type is double)\n",
    "    X = X.astype(np.float32)    \n",
    "    \n",
    "    # convert class 0 into the vector \"1 0 0\", \n",
    "    # class 1 into the vector \"0 1 0\", ...\n",
    "    class_ind = [Y==class_number for class_number in range(num_classes)]\n",
    "    Y = np.asarray(np.hstack(class_ind), dtype=np.float32)\n",
    "    return X, Y"
   ]
  },
  {
   "cell_type": "code",
   "execution_count": 8,
   "metadata": {},
   "outputs": [],
   "source": [
    "# Create the input variables denoting the features and the label data. Note: the input \n",
    "# does not need additional info on the number of observations (Samples) since CNTK creates only \n",
    "# the network topology first \n",
    "mysamplesize = 32\n",
    "features, labels = generate_random_data_sample(mysamplesize, input_dim, num_output_classes)"
   ]
  },
  {
   "cell_type": "markdown",
   "metadata": {},
   "source": [
    "入力データを可視化してみましょう。\n",
    "\n",
    "**Note**: もしimport `matplotlib.pyplot` が失敗した場合、`conda install matplotlib` か `pip install` を使って、`pyplot` バージョン依存を解決してください。"
   ]
  },
  {
   "cell_type": "code",
   "execution_count": 9,
   "metadata": {},
   "outputs": [
    {
     "data": {
      "image/png": "[encoded data removed]",
      "text/plain": [
       "<matplotlib.figure.Figure at 0x7f9556ff5b00>"
      ]
     },
     "metadata": {},
     "output_type": "display_data"
    }
   ],
   "source": [
    "# Plot the data \n",
    "import matplotlib.pyplot as plt\n",
    "%matplotlib inline\n",
    "\n",
    "# let 0 represent malignant/red and 1 represent benign/blue \n",
    "colors = ['r' if label == 0 else 'b' for label in labels[:,0]]\n",
    "\n",
    "plt.scatter(features[:,0], features[:,1], c=colors)\n",
    "plt.xlabel(\"Age (scaled)\")\n",
    "plt.ylabel(\"Tumor size (in cm)\")\n",
    "plt.show()"
   ]
  },
  {
   "cell_type": "markdown",
   "metadata": {},
   "source": [
    "# モデルの作成\n",
    "\n",
    "Logistic regression network は様々な機械学習手法で使われている基本構成要素です。様々な要素を入力 (特徴量ベクター $\\bf{x}$、図では青いノード) として受け取り、*evidence* ($z$) (アクチベーションとも呼ぶ、図では緑のノード) を出力します。 それぞれの入力要素 (x) に重み w (図では、線の太さで重みの大きさを表している) を掛けた値の和がエビデンスです。"
   ]
  },
  {
   "cell_type": "code",
   "execution_count": 10,
   "metadata": {},
   "outputs": [
    {
     "data": {
      "text/html": [
       "<img src=\"https://www.cntk.ai/jup/logistic_neuron2.jpg\" width=\"300\" height=\"200\"/>"
      ],
      "text/plain": [
       "<IPython.core.display.Image object>"
      ]
     },
     "execution_count": 10,
     "metadata": {},
     "output_type": "execute_result"
    }
   ],
   "source": [
    "# Figure 4\n",
    "Image(url= \"https://www.cntk.ai/jup/logistic_neuron2.jpg\", width=300, height=200)"
   ]
  },
  {
   "cell_type": "markdown",
   "metadata": {},
   "source": [
    "$\\bf{w}$ は長さ$n$の重みベクター、$b$ は [bias](https://www.quora.com/What-does-the-bias-term-represent-in-logistic-regression) 項です。 Note: **太字** はベクターを表します。\n",
    "\n",
    "$$z = \\sum_{i=1}^n w_i \\times x_i + b = \\textbf{w} \\cdot \\textbf{x} + b$$ \n",
    "\n",
    "計算したエビデンス ($z$) は `sigmoid`関数(2クラスの場合)か`softmax`関数(多クラスの場合)を使って、0-1の範囲にスケールします。\n",
    "\n",
    "CNTKにおける、ネットワークの入力:\n",
    "-- **input** 変数\n",
    "> CNTKでは、input_variable 関数を使って、入力コンテナを作ります。今回は、特徴量は2つなので、次元数2の入力コンテナを作ります。"
   ]
  },
  {
   "cell_type": "code",
   "execution_count": 11,
   "metadata": {
    "collapsed": true
   },
   "outputs": [],
   "source": [
    "feature = C.input_variable(input_dim, np.float32)"
   ]
  },
  {
   "cell_type": "markdown",
   "metadata": {},
   "source": [
    "## ネットワークのセットアップ\n",
    "\n",
    "上の数式を表した`linear_layer`関数を定義します。 \n",
    "0. CNTK `times` オペレータを使って、重み($\\bf{w}$)と特徴量($\\bf{x}$)を掛け、\n",
    "1. 最後にbias項 $b$ を足します。\n",
    "\n",
    "`linear_layer`関数は、[CNTKオペレーション][]を使うことで、利用可能なハードウェア(CPUやGPU)に合わせて自動的に最適化されて実行されます。\n",
    "\n",
    "[CNTKオペレーション]: https://www.cntk.ai/pythondocs/cntk.ops.html"
   ]
  },
  {
   "cell_type": "code",
   "execution_count": 12,
   "metadata": {
    "collapsed": true
   },
   "outputs": [],
   "source": [
    "# Define a dictionary to store the model parameters\n",
    "mydict = {}\n",
    "\n",
    "def linear_layer(input_var, output_dim):\n",
    "    \n",
    "    input_dim = input_var.shape[0]\n",
    "    weight_param = C.parameter(shape=(input_dim, output_dim))\n",
    "    bias_param = C.parameter(shape=(output_dim))\n",
    "    \n",
    "    mydict['w'], mydict['b'] = weight_param, bias_param\n",
    "\n",
    "    return C.times(input_var, weight_param) + bias_param"
   ]
  },
  {
   "cell_type": "markdown",
   "metadata": {},
   "source": [
    "`z` はネットワークの出力を表すのに使われます。"
   ]
  },
  {
   "cell_type": "code",
   "execution_count": 13,
   "metadata": {},
   "outputs": [],
   "source": [
    "output_dim = num_output_classes\n",
    "z = linear_layer(feature, output_dim)"
   ]
  },
  {
   "cell_type": "markdown",
   "metadata": {},
   "source": [
    "### モデルパラメータの学習\n",
    "\n",
    "モデルの準備ができたので、モデルパラメータ($\\bf w$ と $b$)の学習を行っていきます。そのために、まず`softmax`関数を使ってエビデンス($z$)を確率($\\textbf p$)に変換します。\n",
    "\n",
    "$$ \\textbf{p} = \\mathrm{softmax}(z)$$ \n",
    "\n",
    "`softmax`関数 ([softmax function][])は[アクティベーション関数][]の1つです。各要素を足すと1となるようなベクターを出力するので、多クラス分類問題の確率分布として考えられます。 \n",
    "\n",
    "[softmax function]: https://www.cntk.ai/pythondocs/cntk.ops.html?highlight=softmax#cntk.ops.softmax\n",
    "\n",
    "[アクティベーション関数]: https://github.com/Microsoft/CNTK/wiki/Activation-Functions"
   ]
  },
  {
   "cell_type": "markdown",
   "metadata": {},
   "source": [
    "## 学習\n",
    "\n",
    "上で述べたように、`softmax`関数の出力は観測値がそれぞれのクラスに属する確率になります。推定された確率分布が正解の分布にどれくらい近いかを表す関数を*cost*関数または*loss*関数といいます。*cost*関数または*loss*関数の値が小さくなるように、つまり、出力された確率が正解のクラスになるべく近くなるようにモデルの学習を行っていきます。\n",
    "\n",
    "*cost/loss* 関数として、[`Cross-entropy`][]はよく使われていて、確率分布同士の近さを非負の値で返します。\n",
    "\n",
    "$$ H(p) = - \\sum_{j=1}^C y_j \\log (p_j) $$\n",
    "\n",
    "$p$ は`softmax`関数による推定確率分布、$y$は正解ラベル(ground-truth)です。2クラス問題の場合、`label`変数は2次元(`num_output_classes`と$C$に等しい)です。$y$、$p$共に、該当するクラスの要素が1、それ以外($C-1$次元)の要素は0の、$C$次元ベクターでは表されます。後ほど時間を取ってCross-Entropyを[よく理解する][]ことをおすすめします。\n",
    "\n",
    "[`cross-entropy`]: http://cntk.ai/pythondocs/cntk.ops.html#cntk.ops.cross_entropy_with_softmax\n",
    "[よく理解する]: http://colah.github.io/posts/2015-09-Visual-Information/"
   ]
  },
  {
   "cell_type": "code",
   "execution_count": 14,
   "metadata": {
    "collapsed": true
   },
   "outputs": [],
   "source": [
    "label = C.input_variable(num_output_classes, np.float32)\n",
    "loss = C.cross_entropy_with_softmax(z, label)"
   ]
  },
  {
   "cell_type": "markdown",
   "metadata": {},
   "source": [
    "#### 評価\n",
    "\n",
    "`loss`関数を基準に学習したモデルを、[`classificaiton_error`]関数を使って評価します。モデルの出力結果と正解(ground-truth)がいくつ一致したかを返します。\n",
    "\n",
    "[`classificaiton_error`]: https://www.cntk.ai/pythondocs/cntk.ops.html#cntk.ops.classification_error"
   ]
  },
  {
   "cell_type": "code",
   "execution_count": 15,
   "metadata": {
    "collapsed": true
   },
   "outputs": [],
   "source": [
    "eval_error = C.classification_error(z, label)"
   ]
  },
  {
   "cell_type": "markdown",
   "metadata": {},
   "source": [
    "### 学習の調整\n",
    "\n",
    "`loss`関数を小さくするために様々な最適化手法([optimization][])がありますが、今回は[Stochastic Gradient Descent][] (`sgd`)を使います。通常`sgd`では、ランダムな値でパラメータを初期化し、最急降下法([gradient-decent][])で反復的にパラメータを最適化していきます。それぞれのイテレーション(反復)では、データの一部を取り出して(*minibatch*と呼ぶ)、パラメータの更新に使います。大規模なデータセットに対してもメモリにのる分だけ*minibatch*として取り出し、効率的に学習を進められます。`loss`関数の値かあまり変わらなくなるか、指定回数以上反復したら、学習を終了します。\n",
    "\n",
    "最適化の際に、重要なパラメータとして`learning_rate`があります。今のところは、\"一度のイテレーションでどの程度パラメータを変化させるか\"を調節するパラメータと考えておけば良いですが、より詳しくはチュートリアルの後半で扱う予定です。\n",
    "\n",
    "[optimization]: https://en.wikipedia.org/wiki/Category:Convex_optimization\n",
    "[Stochastic Gradient Descent]: https://en.wikipedia.org/wiki/Stochastic_gradient_descent\n",
    "[gradient-decent]: http://www.statisticsviews.com/details/feature/5722691/Getting-to-the-Bottom-of-Regression-with-Gradient-Descent.html"
   ]
  },
  {
   "cell_type": "code",
   "execution_count": 16,
   "metadata": {
    "collapsed": true
   },
   "outputs": [],
   "source": [
    "# Instantiate the trainer object to drive the model training\n",
    "learning_rate = 0.5\n",
    "lr_schedule = C.learning_rate_schedule(learning_rate, C.UnitType.minibatch) \n",
    "learner = C.sgd(z.parameters, lr_schedule)\n",
    "trainer = C.Trainer(z, (loss, eval_error), [learner])"
   ]
  },
  {
   "cell_type": "markdown",
   "metadata": {},
   "source": [
    "学習の様子を可視化するためのヘルパー関数を用意しておきます。"
   ]
  },
  {
   "cell_type": "code",
   "execution_count": 17,
   "metadata": {
    "collapsed": true
   },
   "outputs": [],
   "source": [
    "# Define a utility function to compute the moving average.\n",
    "# A more efficient implementation is possible with np.cumsum() function\n",
    "def moving_average(a, w=10):\n",
    "    if len(a) < w: \n",
    "        return a[:]    \n",
    "    return [val if idx < w else sum(a[(idx-w):idx])/w for idx, val in enumerate(a)]\n",
    "\n",
    "\n",
    "# Define a utility that prints the training progress\n",
    "def print_training_progress(trainer, mb, frequency, verbose=1):\n",
    "    training_loss, eval_error = \"NA\", \"NA\"\n",
    "\n",
    "    if mb % frequency == 0:\n",
    "        training_loss = trainer.previous_minibatch_loss_average\n",
    "        eval_error = trainer.previous_minibatch_evaluation_average\n",
    "        if verbose: \n",
    "            print (\"Minibatch: {0}, Loss: {1:.4f}, Error: {2:.2f}\".format(mb, training_loss, eval_error))\n",
    "        \n",
    "    return mb, training_loss, eval_error"
   ]
  },
  {
   "cell_type": "markdown",
   "metadata": {},
   "source": [
    "### 学習\n",
    "\n",
    "今回は、一回のイテレーションで使うサンプル数(`minibatch_size`)を25、学習する総サンプル数(`num_samples_to_train`)を20000と設定します。シミュレーションデータなので幾らでもサンプルを生成できますが、実際の問題では答え(ground-truth)がわかっているデータのうち、例えば70%で学習をし、残り30%で学習したモデルの評価をする事があります。\n",
    "\n",
    "これで Logistic Regression モデル (feedfoward network) を学習する準備ができました。"
   ]
  },
  {
   "cell_type": "code",
   "execution_count": 18,
   "metadata": {
    "collapsed": true
   },
   "outputs": [],
   "source": [
    "# Initialize the parameters for the trainer\n",
    "minibatch_size = 25\n",
    "num_samples_to_train = 20000\n",
    "num_minibatches_to_train = int(num_samples_to_train  / minibatch_size)"
   ]
  },
  {
   "cell_type": "code",
   "execution_count": 19,
   "metadata": {},
   "outputs": [
    {
     "name": "stdout",
     "output_type": "stream",
     "text": [
      "Minibatch: 0, Loss: 0.6931, Error: 0.32\n",
      "Minibatch: 50, Loss: 1.9350, Error: 0.36\n",
      "Minibatch: 100, Loss: 1.0764, Error: 0.32\n",
      "Minibatch: 150, Loss: 0.4856, Error: 0.20\n",
      "Minibatch: 200, Loss: 0.1319, Error: 0.08\n",
      "Minibatch: 250, Loss: 0.1330, Error: 0.08\n",
      "Minibatch: 300, Loss: 0.1012, Error: 0.04\n",
      "Minibatch: 350, Loss: 0.1091, Error: 0.04\n",
      "Minibatch: 400, Loss: 0.3094, Error: 0.08\n",
      "Minibatch: 450, Loss: 0.3230, Error: 0.12\n",
      "Minibatch: 500, Loss: 0.3986, Error: 0.20\n",
      "Minibatch: 550, Loss: 0.6744, Error: 0.24\n",
      "Minibatch: 600, Loss: 0.3004, Error: 0.12\n",
      "Minibatch: 650, Loss: 0.1676, Error: 0.12\n",
      "Minibatch: 700, Loss: 0.2777, Error: 0.12\n",
      "Minibatch: 750, Loss: 0.2311, Error: 0.04\n"
     ]
    }
   ],
   "source": [
    "from collections import defaultdict\n",
    "\n",
    "# Run the trainer and perform model training\n",
    "training_progress_output_freq = 50\n",
    "plotdata = defaultdict(list)\n",
    "\n",
    "for i in range(0, num_minibatches_to_train):\n",
    "    features, labels = generate_random_data_sample(minibatch_size, input_dim, num_output_classes)\n",
    "    \n",
    "    # Assign the minibatch data to the input variables and train the model on the minibatch\n",
    "    trainer.train_minibatch({feature : features, label : labels})\n",
    "    batchsize, loss, error = print_training_progress(trainer, i, \n",
    "                                                     training_progress_output_freq, verbose=1)\n",
    "    \n",
    "    if not (loss == \"NA\" or error ==\"NA\"):\n",
    "        plotdata[\"batchsize\"].append(batchsize)\n",
    "        plotdata[\"loss\"].append(loss)\n",
    "        plotdata[\"error\"].append(error)"
   ]
  },
  {
   "cell_type": "code",
   "execution_count": 20,
   "metadata": {},
   "outputs": [
    {
     "data": {
      "image/png": "[encoded data removed]",
      "text/plain": [
       "<matplotlib.figure.Figure at 0x7f9551b5b128>"
      ]
     },
     "metadata": {},
     "output_type": "display_data"
    },
    {
     "data": {
      "image/png": "[encoded data removed]",
      "text/plain": [
       "<matplotlib.figure.Figure at 0x7f9551b6b128>"
      ]
     },
     "metadata": {},
     "output_type": "display_data"
    }
   ],
   "source": [
    "# Compute the moving average loss to smooth out the noise in SGD\n",
    "plotdata[\"avgloss\"] = moving_average(plotdata[\"loss\"])\n",
    "plotdata[\"avgerror\"] = moving_average(plotdata[\"error\"])\n",
    "\n",
    "# Plot the training loss and the training error\n",
    "import matplotlib.pyplot as plt\n",
    "\n",
    "plt.figure(1)\n",
    "plt.subplot(211)\n",
    "plt.plot(plotdata[\"batchsize\"], plotdata[\"avgloss\"], 'b--')\n",
    "plt.xlabel('Minibatch number')\n",
    "plt.ylabel('Loss')\n",
    "plt.title('Minibatch run vs. Training loss')\n",
    "\n",
    "plt.show()\n",
    "\n",
    "plt.subplot(212)\n",
    "plt.plot(plotdata[\"batchsize\"], plotdata[\"avgerror\"], 'r--')\n",
    "plt.xlabel('Minibatch number')\n",
    "plt.ylabel('Label Prediction Error')\n",
    "plt.title('Minibatch run vs. Label Prediction Error')\n",
    "plt.show()"
   ]
  },
  {
   "cell_type": "markdown",
   "metadata": {},
   "source": [
    "## 評価 / テスト\n",
    "\n",
    "これでネットワークの学習ができました。学習に使っていないデータを分類してみて、ネットワークの性能を評価してみましょう(**testing**と言う)。シミュレーションデータをさらに生成し、`trainer.test_minibatch`で予測を行います。この時、テストエラーがトレーニングエラーより格段に大きい場合は、学習したモデルは新しいデータに対してうまく動いていないという事になります。これはトレーニングデータを過剰に学習してしまった時に起こり、[overfitting][]と呼ばれます。CNTKでは[overfitting][]を避けるために様々なコンポーネントを用意していますので、後半のチュートリアルで紹介する予定です。\n",
    "\n",
    "Note: 今回は説明のため、minibatchを1つだけ確認しますが、実際には、複数のminibatchでテストして平均を取った方が良いでしょう。\n",
    "\n",
    "**質問** なぜそうするべきなのでしょうか？何度か違うminibatchでテストをして、プロットを確認してみてください。パターンが見えるでしょうか？\n",
    "\n",
    "[overfitting]: https://en.wikipedia.org/wiki/Overfitting"
   ]
  },
  {
   "cell_type": "code",
   "execution_count": 21,
   "metadata": {},
   "outputs": [
    {
     "data": {
      "text/plain": [
       "0.12"
      ]
     },
     "execution_count": 21,
     "metadata": {},
     "output_type": "execute_result"
    }
   ],
   "source": [
    "# Run the trained model on a newly generated dataset\n",
    "test_minibatch_size = 25\n",
    "features, labels = generate_random_data_sample(test_minibatch_size, input_dim, num_output_classes)\n",
    "\n",
    "trainer.test_minibatch({feature : features, label : labels})"
   ]
  },
  {
   "cell_type": "markdown",
   "metadata": {},
   "source": [
    "### 予測の確認 / 評価\n",
    "\n",
    "予測結果の評価のため、ネットワークの出力を`softmax`関数を使って0-1にスケールし、2クラスの確率分布に変換します。この確率分布は、それぞれの観測値が良性、悪性、それぞれのクラスに属する確率を表します。"
   ]
  },
  {
   "cell_type": "code",
   "execution_count": 22,
   "metadata": {
    "collapsed": true
   },
   "outputs": [],
   "source": [
    "out = C.softmax(z)\n",
    "result = out.eval({feature : features})"
   ]
  },
  {
   "cell_type": "markdown",
   "metadata": {},
   "source": [
    "それでは、予測結果と正解ラベル(ground-truth)を比較してみましょう。\n",
    "\n",
    "**質問:** \n",
    "- いくつ不正解だったでしょうか？下のコードを変更して、どの観測値の分類に失敗したか表示するようにできますか？その場で下のコードを変更して、ツールバーから実行(run cell)できます。"
   ]
  },
  {
   "cell_type": "code",
   "execution_count": 23,
   "metadata": {},
   "outputs": [
    {
     "name": "stdout",
     "output_type": "stream",
     "text": [
      "Label    : [1, 0, 0, 1, 1, 1, 0, 1, 1, 0, 1, 1, 1, 0, 1, 0, 1, 1, 0, 0, 1, 0, 0, 0, 1]\n",
      "Predicted: [1, 0, 0, 0, 0, 0, 0, 1, 1, 0, 1, 1, 1, 0, 1, 0, 1, 1, 0, 0, 1, 0, 0, 0, 1]\n"
     ]
    }
   ],
   "source": [
    "print(\"Label    :\", [np.argmax(label) for label in labels])\n",
    "print(\"Predicted:\", [np.argmax(x) for x in result])"
   ]
  },
  {
   "cell_type": "markdown",
   "metadata": {},
   "source": [
    "### 可視化\n",
    "できる限り結果を可視化して確認するべきです。この例では、データが2次元なのでそのままプロットできます。多次元データの場合はより難しくなりますが、例えば [t-sne][] などの次元削減手法が使えます。\n",
    "\n",
    "[t-sne]: https://en.wikipedia.org/wiki/T-distributed_stochastic_neighbor_embedding"
   ]
  },
  {
   "cell_type": "code",
   "execution_count": 24,
   "metadata": {},
   "outputs": [
    {
     "name": "stdout",
     "output_type": "stream",
     "text": [
      "[ 8.00007153 -8.00006485]\n"
     ]
    },
    {
     "data": {
      "image/png": "[encoded data removed]",
      "text/plain": [
       "<matplotlib.figure.Figure at 0x7f9552030828>"
      ]
     },
     "metadata": {},
     "output_type": "display_data"
    }
   ],
   "source": [
    "# Model parameters\n",
    "print(mydict['b'].value)\n",
    "\n",
    "bias_vector   = mydict['b'].value\n",
    "weight_matrix = mydict['w'].value\n",
    "\n",
    "# Plot the data \n",
    "import matplotlib.pyplot as plt\n",
    "\n",
    "# let 0 represent malignant/red, and 1 represent benign/blue\n",
    "colors = ['r' if label == 0 else 'b' for label in labels[:,0]]\n",
    "plt.scatter(features[:,0], features[:,1], c=colors)\n",
    "plt.plot([0, bias_vector[0]/weight_matrix[0][1]], \n",
    "         [ bias_vector[1]/weight_matrix[0][0], 0], c = 'g', lw = 3)\n",
    "plt.xlabel(\"Patient age (scaled)\")\n",
    "plt.ylabel(\"Tumor size (in cm)\")\n",
    "plt.show()"
   ]
  },
  {
   "cell_type": "markdown",
   "metadata": {
    "collapsed": true
   },
   "source": [
    "**探索のヒント** \n",
    "- パラメータを変えてみるとどうなるでしょうか？例えば、`minibatch_size`を25から64にしてみてください。なぜエラーが増えるのでしょうか？\n",
    "- 他のアクティベーション関数や最適化手法を試してみてください。\n",
    "- 分類クラスが多クラスの場合はどうなるでしょうか？[multiclass logistic regression][]分類器を試してみてください。\n",
    "\n",
    "[multiclass logistic regression]: https://en.wikipedia.org/wiki/Multinomial_logistic_regression"
   ]
  }
 ],
 "metadata": {
  "anaconda-cloud": {},
  "kernelspec": {
   "display_name": "Python 3",
   "language": "python",
   "name": "python3"
  },
  "language_info": {
   "codemirror_mode": {
    "name": "ipython",
    "version": 3
   },
   "file_extension": ".py",
   "mimetype": "text/x-python",
   "name": "python",
   "nbconvert_exporter": "python",
   "pygments_lexer": "ipython3",
   "version": "3.5.2"
  }
 },
 "nbformat": 4,
 "nbformat_minor": 1
}
