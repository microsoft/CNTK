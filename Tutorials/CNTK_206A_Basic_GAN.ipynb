{
 "cells": [
  {
   "cell_type": "code",
   "execution_count": 1,
   "metadata": {
    "collapsed": true
   },
   "outputs": [],
   "source": [
    "from IPython.display import Image"
   ]
  },
  {
   "cell_type": "markdown",
   "metadata": {},
   "source": [
    "# CNTK 206 Part A: Basic GAN with MNIST data\n",
    "\n",
    "**Prerequisites**: We assume that you have successfully downloaded the MNIST data by completing the tutorial titled CNTK_103A_MNIST_DataLoader.ipynb.\n",
    "\n",
    "## Introduction\n",
    "\n",
    "[Generative models](https://en.wikipedia.org/wiki/Generative_model) have gained a [lot of attention](https://openai.com/blog/generative-models/) in deep learning community which has traditionally leveraged [discriminative models](https://en.wikipedia.org/wiki/Discriminative_model) for (semi-supervised) and unsupervised learning. In generative modeling, the idea is to collect a huge amount of data in a domain of interest (e.g., pictures, audio, words) and come up with a trained model that generates such real world data sets. This is an active area of research needing mechanisms to scale up training and having large datasets. As stated in the [OpenAI blog](https://openai.com/blog/generative-models/), such approaches may be used to perform computer aided art generation, or morph images to some word descriptions such as \"make my smile wider\". This approach has found use in image denoising, inpainting, super-resolution, structured prediction, exploration in reinforcement learning, and neural network pretraining in cases where labeled data is expensive. \n",
    "\n",
    "Generating models that can produce realistic content (images, sounds etc.) mimicking real world observations is challenging. Generative Adversarial Network (GAN) is one of the approaches that holds promise. A [quote](https://www.quora.com/What-are-some-recent-and-potentially-upcoming-breakthroughs-in-deep-learning) from Yann LeCun summarizes GAN and its variations as the most important idea in the last 10 years. The original idea was proposed by [Goodfellow et al](https://arxiv.org/pdf/1406.2661v1.pdf) at NIPS  2014. In this tutorial, we show how to use the Cognitive Toolkit to create a basic GAN network for generating synthetic MNIST digits."
   ]
  },
  {
   "cell_type": "code",
   "execution_count": 2,
   "metadata": {},
   "outputs": [],
   "source": [
    "import matplotlib as mpl\n",
    "import matplotlib.pyplot as plt\n",
    "import numpy as np\n",
    "import os\n",
    "\n",
    "import cntk as C\n",
    "\n",
    "%matplotlib inline"
   ]
  },
  {
   "cell_type": "markdown",
   "metadata": {
    "collapsed": true
   },
   "source": [
    "In the block below, we check if we are running this notebook in the CNTK internal test machines by looking for environment variables defined there. We then select the right target device (GPU vs CPU) to test this notebook. In other cases, we use CNTK's default policy to use the best available device (GPU, if available, else CPU)."
   ]
  },
  {
   "cell_type": "code",
   "execution_count": 3,
   "metadata": {
    "collapsed": true
   },
   "outputs": [],
   "source": [
    "# Select the right target device when this notebook is being tested:\n",
    "if 'TEST_DEVICE' in os.environ:\n",
    "    import cntk\n",
    "    if os.environ['TEST_DEVICE'] == 'cpu':\n",
    "        C.device.try_set_default_device(C.device.cpu())\n",
    "    else:\n",
    "        C.device.try_set_default_device(C.device.gpu(0))               "
   ]
  },
  {
   "cell_type": "markdown",
   "metadata": {},
   "source": [
    "There are two run modes:\n",
    "- *Fast mode*: `isFast` is set to `True`. This is the default mode for the notebooks, which means we train for fewer iterations or train / test on limited data. This ensures functional correctness of the notebook though the models produced are far from what a completed training would produce.\n",
    "\n",
    "- *Slow mode*: We recommend the user to set this flag to `False` once the user has gained familiarity with the notebook content and wants to gain insight from running the notebooks for a longer period with different parameters for training. \n",
    "\n",
    "**Note**\n",
    "If the `isFlag` is set to `False` the notebook will take a few hours on a GPU enabled machine. You can try fewer iterations by setting the `num_minibatches` to a smaller number say `20,000` which comes at the expense of quality of the generated images."
   ]
  },
  {
   "cell_type": "code",
   "execution_count": 4,
   "metadata": {
    "collapsed": true
   },
   "outputs": [],
   "source": [
    "isFast = True "
   ]
  },
  {
   "cell_type": "markdown",
   "metadata": {},
   "source": [
    "## Data Reading\n",
    "The input to the GAN will be a vector of random numbers. At the end of the traning, the GAN \"learns\" to generate images of hand written digits drawn from the [MNIST database](https://en.wikipedia.org/wiki/MNIST_database). We will be using the same MNIST data generated in tutorial 103A.  A more in-depth discussion of the data format and reading methods can be seen in previous tutorials.  For our purposes, just know that the following function returns an object that will be used to generate images from the MNIST dataset.  Since we are building an unsupervised model, we only need to read in `features` and ignore the `labels`."
   ]
  },
  {
   "cell_type": "code",
   "execution_count": 5,
   "metadata": {},
   "outputs": [
    {
     "name": "stdout",
     "output_type": "stream",
     "text": [
      "Data directory is ..\\Examples\\Image\\DataSets\\MNIST\n"
     ]
    }
   ],
   "source": [
    "# Ensure the training data is generated and available for this tutorial\n",
    "# We search in two locations in the toolkit for the cached MNIST data set.\n",
    "\n",
    "data_found = False\n",
    "for data_dir in [os.path.join(\"..\", \"Examples\", \"Image\", \"DataSets\", \"MNIST\"),\n",
    "                 os.path.join(\"data\", \"MNIST\")]:\n",
    "    train_file = os.path.join(data_dir, \"Train-28x28_cntk_text.txt\")\n",
    "    if os.path.isfile(train_file):\n",
    "        data_found = True\n",
    "        break\n",
    "        \n",
    "if not data_found:\n",
    "    raise ValueError(\"Please generate the data by completing CNTK 103 Part A\")\n",
    "    \n",
    "print(\"Data directory is {0}\".format(data_dir))"
   ]
  },
  {
   "cell_type": "code",
   "execution_count": 6,
   "metadata": {
    "collapsed": true
   },
   "outputs": [],
   "source": [
    "def create_reader(path, is_training, input_dim, label_dim):\n",
    "    deserializer = C.io.CTFDeserializer(\n",
    "        filename = path,\n",
    "        streams = C.io.StreamDefs(\n",
    "            labels_unused = C.io.StreamDef(field = 'labels', shape = label_dim, is_sparse = False),\n",
    "            features = C.io.StreamDef(field = 'features', shape = input_dim, is_sparse = False\n",
    "            )\n",
    "        )\n",
    "    )\n",
    "    return C.io.MinibatchSource(\n",
    "        deserializers = deserializer,\n",
    "        randomize = is_training,\n",
    "        max_sweeps = C.io.INFINITELY_REPEAT if is_training else 1\n",
    "    )"
   ]
  },
  {
   "cell_type": "markdown",
   "metadata": {},
   "source": [
    "The random noise we will use to train the GAN is provided by the `noise_sample` function to generate random noise samples from a uniform distribution within the interval [-1, 1]."
   ]
  },
  {
   "cell_type": "code",
   "execution_count": 7,
   "metadata": {
    "collapsed": true
   },
   "outputs": [],
   "source": [
    "np.random.seed(123)\n",
    "def noise_sample(num_samples):\n",
    "    return np.random.uniform(\n",
    "        low = -1.0,\n",
    "        high = 1.0,\n",
    "        size = [num_samples, g_input_dim]        \n",
    "    ).astype(np.float32)"
   ]
  },
  {
   "cell_type": "markdown",
   "metadata": {},
   "source": [
    "## Model Creation\n",
    "\n",
    "A GAN network is composed of two sub-networks, one called the Generator ($G$) and the other Discriminator ($D$). \n",
    "- The **Generator** takes random noise vector ($z$) as input and strives to output synthetic (fake) image ($x^*$) that is indistinguishable from the real image ($x$) from the MNIST dataset. \n",
    "- The **Discriminator** strives to differentiate between the real image ($x$) and the fake ($x^*$) image."
   ]
  },
  {
   "cell_type": "code",
   "execution_count": 8,
   "metadata": {},
   "outputs": [
    {
     "data": {
      "text/html": [
       "<img src=\"https://www.cntk.ai/jup/GAN_basic_flow.png\"/>"
      ],
      "text/plain": [
       "<IPython.core.display.Image object>"
      ]
     },
     "execution_count": 8,
     "metadata": {},
     "output_type": "execute_result"
    }
   ],
   "source": [
    "# Figure 1\n",
    "Image(url=\"https://www.cntk.ai/jup/GAN_basic_flow.png\")"
   ]
  },
  {
   "cell_type": "markdown",
   "metadata": {},
   "source": [
    "In each training iteration, the Generator produces more realistic fake images (in other words *minimizes* the difference between the real and generated counterpart) and also the Discriminator *maximizes* the probability of assigning the correct label (real vs. fake) to both real examples (from training set) and the generated fake ones. The two conflicting objectives between the sub-networks ($G$ and $D$) leads to the GAN network (when trained) converge to an equilibrium, where the Generator produces realistic looking fake MNIST images and the Discriminator can at best randomly guess whether images are real or fake. The resulting Generator model once trained produces realistic MNIST image with the input being a random number. "
   ]
  },
  {
   "cell_type": "markdown",
   "metadata": {},
   "source": [
    "### Model config\n",
    "\n",
    "First, we establish some of the architectural and training hyper-parameters for our model.  \n",
    "\n",
    "- The generator network is a fully-connected network with a single hidden layer.  The input will be a 10-dimensional random vector and the output will be a 784 dimensional vector, corresponding to a flattened version of a 28 x 28 fake  image.  The discriminator is also a single layer dense network.  It takes as input the 784 dimensional output of the generator or a real MNIST image and outputs a single scalar - the estimated probability that the input image is a real MNIST image."
   ]
  },
  {
   "cell_type": "markdown",
   "metadata": {},
   "source": [
    "### Model components\n",
    "We build a computational graph for our model, one each for the generator and the discriminator. First, we establish some of the architectural parameters of our model. \n",
    "\n",
    "- The generator takes a 100-dimensional random vector (for starters) as input ($z$) and the outputs a 784 dimensional vector, corresponding to a flattened version of a 28 x 28 fake (synthetic) image ($x^*$). In this tutorial we simply model the generator with two dense layers. We use a tanh activation on the last layer to make sure that the output of the generator function is confined to the interval [-1, 1]. This is necessary because we also scale the MNIST images to this interval, and the outputs of the generator must be able to emulate the actual images as closely as possible.\n",
    "\n",
    "\n",
    "- The discriminator takes as input ($x^*$) the 784 dimensional output of the generator or a real MNIST image and outputs the estimated probability that the input image is a real MNIST image. We also model this with two dense layers with a sigmoid activation in the last layer ensuring that the discriminator produces a valid probability."
   ]
  },
  {
   "cell_type": "code",
   "execution_count": 9,
   "metadata": {
    "collapsed": true
   },
   "outputs": [],
   "source": [
    "# architectural parameters\n",
    "g_input_dim = 100\n",
    "g_hidden_dim = 128\n",
    "g_output_dim = d_input_dim = 784\n",
    "d_hidden_dim = 128\n",
    "d_output_dim = 1"
   ]
  },
  {
   "cell_type": "code",
   "execution_count": 10,
   "metadata": {
    "collapsed": true
   },
   "outputs": [],
   "source": [
    "def generator(z):\n",
    "    with C.layers.default_options(init = C.xavier()):\n",
    "        h1 = C.layers.Dense(g_hidden_dim, activation = C.relu)(z)\n",
    "        return C.layers.Dense(g_output_dim, activation = C.tanh)(h1)"
   ]
  },
  {
   "cell_type": "code",
   "execution_count": 11,
   "metadata": {
    "collapsed": true
   },
   "outputs": [],
   "source": [
    "def discriminator(x):\n",
    "    with C.layers.default_options(init = C.xavier()):\n",
    "        h1 = C.layers.Dense(d_hidden_dim, activation = C.relu)(x)\n",
    "        return C.layers.Dense(d_output_dim, activation = C.sigmoid)(h1)"
   ]
  },
  {
   "cell_type": "markdown",
   "metadata": {},
   "source": [
    "We use a minibatch size of 1024 and a fixed learning rate of 0.0005 for training. In the fast mode (`isFast = True`)  we verify only functional correctness with 200 iterations. \n",
    "\n",
    "**Note**: In the slow mode, the results look a lot better but it requires patient waiting (few hours) depending on your hardware. In general, the more number of minibatches one trains, the better is the fidelity of the generated images."
   ]
  },
  {
   "cell_type": "code",
   "execution_count": 12,
   "metadata": {
    "collapsed": true
   },
   "outputs": [],
   "source": [
    "# training config\n",
    "minibatch_size = 1024\n",
    "num_minibatches = 300 if isFast else 40000\n",
    "lr = 0.00005"
   ]
  },
  {
   "cell_type": "markdown",
   "metadata": {},
   "source": [
    "### Build the graph\n",
    "\n",
    "The rest of the computational graph is mostly responsible for coordinating the training algorithms and parameter updates, which is particularly tricky with GANs for couple reasons. \n",
    "\n",
    "- First, the discriminator must be used on both the real MNIST images and fake images generated by the generator function.  One way to represent this in the computational graph is to create a clone of the output of the discriminator function, but with substituted inputs.  Setting `method=share` in the `clone` function ensures that  both paths through the discriminator model use the same set of parameters.\n",
    "\n",
    "\n",
    "- Second, we need to update the parameters for the generator and discriminator model separately using the gradients from different loss functions.  We can get the parameters for a `Function` in the graph with the `parameters` attribute.  However, when updating the model parameters, update only the parameters of the respective models while keeping the other parameters unchanged. In other words, when updating the generator we will update only the parameters of the $G$ function while keeping the parameters of the $D$ function fixed and vice versa.\n",
    "\n",
    "### Training the Model\n",
    "The code for training the GAN very closely follows the algorithm as presented in the [original NIPS 2014 paper](https://arxiv.org/pdf/1406.2661v1.pdf). In this implementation, we train $D$ to maximize the probability of assigning the correct label (fake vs. real) to both training examples and the samples from $G$. In other words, $D$ and $G$ play the following two-player minimax game with the value function $V(G,D)$:\n",
    "\n",
    "$$\n",
    "    \\min_G \\max_D V(D,G)= \\mathbb{E}_{x}[ log D(x) ] + \\mathbb{E}_{z}[ log(1 - D(G(z))) ]\n",
    "$$\n",
    "\n",
    "At the optimal point of this game the generator will produce realistic looking data while the discriminator will predict that the generated image is indeed fake with a probability of 0.5. The [algorithm referred below](https://arxiv.org/pdf/1406.2661v1.pdf) is implemented in this tutorial."
   ]
  },
  {
   "cell_type": "code",
   "execution_count": 13,
   "metadata": {},
   "outputs": [
    {
     "data": {
      "text/html": [
       "<img src=\"https://www.cntk.ai/jup/GAN_goodfellow_NIPS2014.png\" width=\"500\"/>"
      ],
      "text/plain": [
       "<IPython.core.display.Image object>"
      ]
     },
     "execution_count": 13,
     "metadata": {},
     "output_type": "execute_result"
    }
   ],
   "source": [
    "# Figure 2\n",
    "Image(url=\"https://www.cntk.ai/jup/GAN_goodfellow_NIPS2014.png\", width = 500)"
   ]
  },
  {
   "cell_type": "code",
   "execution_count": 14,
   "metadata": {
    "collapsed": true
   },
   "outputs": [],
   "source": [
    "def build_graph(noise_shape, image_shape,\n",
    "                G_progress_printer, D_progress_printer):\n",
    "    input_dynamic_axes = [C.Axis.default_batch_axis()]\n",
    "    Z = C.input_variable(noise_shape, dynamic_axes=input_dynamic_axes)\n",
    "    X_real = C.input_variable(image_shape, dynamic_axes=input_dynamic_axes)\n",
    "    X_real_scaled = 2*(X_real / 255.0) - 1.0\n",
    "\n",
    "    # Create the model function for the generator and discriminator models\n",
    "    X_fake = generator(Z)\n",
    "    D_real = discriminator(X_real_scaled)\n",
    "    D_fake = D_real.clone(\n",
    "        method = 'share',\n",
    "        substitutions = {X_real_scaled.output: X_fake.output}\n",
    "    )\n",
    "\n",
    "    # Create loss functions and configure optimazation algorithms\n",
    "    G_loss = 1.0 - C.log(D_fake)\n",
    "    D_loss = -(C.log(D_real) + C.log(1.0 - D_fake))\n",
    "\n",
    "    G_learner = C.fsadagrad(\n",
    "        parameters = X_fake.parameters,\n",
    "        lr = C.learning_rate_schedule(lr, C.UnitType.sample),\n",
    "        momentum = C.momentum_as_time_constant_schedule(700)\n",
    "    )\n",
    "    D_learner = C.fsadagrad(\n",
    "        parameters = D_real.parameters,\n",
    "        lr = C.learning_rate_schedule(lr, C.UnitType.sample),\n",
    "        momentum = C.momentum_as_time_constant_schedule(700)\n",
    "    )\n",
    "\n",
    "    # Instantiate the trainers\n",
    "    G_trainer = C.Trainer(\n",
    "        X_fake,\n",
    "        (G_loss, None),\n",
    "        G_learner,\n",
    "        G_progress_printer\n",
    "    )\n",
    "    D_trainer = C.Trainer(\n",
    "        D_real,\n",
    "        (D_loss, None),\n",
    "        D_learner,\n",
    "        D_progress_printer\n",
    "    )\n",
    "\n",
    "    return X_real, X_fake, Z, G_trainer, D_trainer"
   ]
  },
  {
   "cell_type": "markdown",
   "metadata": {},
   "source": [
    "With the value functions defined we proceed to interatively train the GAN model. The training of the model can take significnantly long depending on the hardware especiallly if `isFast` flag is turned off."
   ]
  },
  {
   "cell_type": "code",
   "execution_count": 15,
   "metadata": {
    "collapsed": true
   },
   "outputs": [],
   "source": [
    "def train(reader_train):\n",
    "    k = 2\n",
    "    \n",
    "    # print out loss for each model for upto 50 times\n",
    "    print_frequency_mbsize = num_minibatches // 50\n",
    "    pp_G = C.logging.ProgressPrinter(print_frequency_mbsize)\n",
    "    pp_D = C.logging.ProgressPrinter(print_frequency_mbsize * k)\n",
    "\n",
    "    X_real, X_fake, Z, G_trainer, D_trainer = \\\n",
    "        build_graph(g_input_dim, d_input_dim, pp_G, pp_D)\n",
    "    \n",
    "    input_map = {X_real: reader_train.streams.features}\n",
    "    for train_step in range(num_minibatches):\n",
    "\n",
    "        # train the discriminator model for k steps\n",
    "        for gen_train_step in range(k):\n",
    "            Z_data = noise_sample(minibatch_size)\n",
    "            X_data = reader_train.next_minibatch(minibatch_size, input_map)\n",
    "            if X_data[X_real].num_samples == Z_data.shape[0]:\n",
    "                batch_inputs = {X_real: X_data[X_real].data, \n",
    "                                Z: Z_data}\n",
    "                D_trainer.train_minibatch(batch_inputs)\n",
    "\n",
    "        # train the generator model for a single step\n",
    "        Z_data = noise_sample(minibatch_size)\n",
    "        batch_inputs = {Z: Z_data}\n",
    "        G_trainer.train_minibatch(batch_inputs)\n",
    "\n",
    "        G_trainer_loss = G_trainer.previous_minibatch_loss_average\n",
    "\n",
    "    return Z, X_fake, G_trainer_loss"
   ]
  },
  {
   "cell_type": "code",
   "execution_count": 16,
   "metadata": {
    "scrolled": false
   },
   "outputs": [
    {
     "name": "stdout",
     "output_type": "stream",
     "text": [
      "Learning rate per sample: 5e-05\n",
      "Learning rate per sample: 5e-05\n",
      " Minibatch[   1-  12]: loss = 0.460148 * 12288, metric = 0.00% * 12288;\n",
      " Minibatch[   1-   6]: loss = 2.711964 * 6144, metric = 0.00% * 6144;\n",
      " Minibatch[  13-  24]: loss = 0.511464 * 12288, metric = 0.00% * 12288;\n",
      " Minibatch[   7-  12]: loss = 2.350809 * 6144, metric = 0.00% * 6144;\n",
      " Minibatch[  25-  36]: loss = 0.517517 * 12288, metric = 0.00% * 12288;\n",
      " Minibatch[  13-  18]: loss = 2.399687 * 6144, metric = 0.00% * 6144;\n",
      " Minibatch[  37-  48]: loss = 0.598834 * 12288, metric = 0.00% * 12288;\n",
      " Minibatch[  19-  24]: loss = 2.479626 * 6144, metric = 0.00% * 6144;\n",
      " Minibatch[  49-  60]: loss = 0.998267 * 12288, metric = 0.00% * 12288;\n",
      " Minibatch[  25-  30]: loss = 2.374653 * 6144, metric = 0.00% * 6144;\n",
      " Minibatch[  61-  72]: loss = 1.194542 * 12288, metric = 0.00% * 12288;\n",
      " Minibatch[  31-  36]: loss = 1.665877 * 6144, metric = 0.00% * 6144;\n",
      " Minibatch[  73-  84]: loss = 1.119630 * 12288, metric = 0.00% * 12288;\n",
      " Minibatch[  37-  42]: loss = 1.857703 * 6144, metric = 0.00% * 6144;\n",
      " Minibatch[  85-  96]: loss = 1.089731 * 12288, metric = 0.00% * 12288;\n",
      " Minibatch[  43-  48]: loss = 1.912537 * 6144, metric = 0.00% * 6144;\n",
      " Minibatch[  97- 108]: loss = 0.970854 * 12288, metric = 0.00% * 12288;\n",
      " Minibatch[  49-  54]: loss = 1.786874 * 6144, metric = 0.00% * 6144;\n",
      " Minibatch[ 109- 120]: loss = 0.999753 * 12288, metric = 0.00% * 12288;\n",
      " Minibatch[  55-  60]: loss = 2.090875 * 6144, metric = 0.00% * 6144;\n",
      " Minibatch[ 121- 132]: loss = 0.955573 * 12288, metric = 0.00% * 12288;\n",
      " Minibatch[  61-  66]: loss = 2.140221 * 6144, metric = 0.00% * 6144;\n",
      " Minibatch[ 133- 144]: loss = 0.985439 * 12288, metric = 0.00% * 12288;\n",
      " Minibatch[  67-  72]: loss = 2.177254 * 6144, metric = 0.00% * 6144;\n",
      " Minibatch[ 145- 156]: loss = 1.026183 * 12288, metric = 0.00% * 12288;\n",
      " Minibatch[  73-  78]: loss = 1.667130 * 6144, metric = 0.00% * 6144;\n",
      " Minibatch[ 157- 168]: loss = 0.993006 * 12288, metric = 0.00% * 12288;\n",
      " Minibatch[  79-  84]: loss = 1.814550 * 6144, metric = 0.00% * 6144;\n",
      " Minibatch[ 169- 180]: loss = 0.980007 * 12288, metric = 0.00% * 12288;\n",
      " Minibatch[  85-  90]: loss = 2.035784 * 6144, metric = 0.00% * 6144;\n",
      " Minibatch[ 181- 192]: loss = 0.911293 * 12288, metric = 0.00% * 12288;\n",
      " Minibatch[  91-  96]: loss = 1.856995 * 6144, metric = 0.00% * 6144;\n",
      " Minibatch[ 193- 204]: loss = 0.890204 * 12288, metric = 0.00% * 12288;\n",
      " Minibatch[  97- 102]: loss = 1.771327 * 6144, metric = 0.00% * 6144;\n",
      " Minibatch[ 205- 216]: loss = 0.759619 * 12288, metric = 0.00% * 12288;\n",
      " Minibatch[ 103- 108]: loss = 1.954175 * 6144, metric = 0.00% * 6144;\n",
      " Minibatch[ 217- 228]: loss = 0.734605 * 12288, metric = 0.00% * 12288;\n",
      " Minibatch[ 109- 114]: loss = 1.923289 * 6144, metric = 0.00% * 6144;\n",
      " Minibatch[ 229- 240]: loss = 0.639136 * 12288, metric = 0.00% * 12288;\n",
      " Minibatch[ 115- 120]: loss = 2.047277 * 6144, metric = 0.00% * 6144;\n",
      " Minibatch[ 241- 252]: loss = 0.602703 * 12288, metric = 0.00% * 12288;\n",
      " Minibatch[ 121- 126]: loss = 2.116557 * 6144, metric = 0.00% * 6144;\n",
      " Minibatch[ 253- 264]: loss = 0.539378 * 12288, metric = 0.00% * 12288;\n",
      " Minibatch[ 127- 132]: loss = 2.312815 * 6144, metric = 0.00% * 6144;\n",
      " Minibatch[ 265- 276]: loss = 0.562899 * 12288, metric = 0.00% * 12288;\n",
      " Minibatch[ 133- 138]: loss = 2.190674 * 6144, metric = 0.00% * 6144;\n",
      " Minibatch[ 277- 288]: loss = 0.636611 * 12288, metric = 0.00% * 12288;\n",
      " Minibatch[ 139- 144]: loss = 2.086283 * 6144, metric = 0.00% * 6144;\n",
      " Minibatch[ 289- 300]: loss = 0.766970 * 12288, metric = 0.00% * 12288;\n",
      " Minibatch[ 145- 150]: loss = 2.099482 * 6144, metric = 0.00% * 6144;\n",
      " Minibatch[ 301- 312]: loss = 0.799666 * 12288, metric = 0.00% * 12288;\n",
      " Minibatch[ 151- 156]: loss = 1.920532 * 6144, metric = 0.00% * 6144;\n",
      " Minibatch[ 313- 324]: loss = 0.829482 * 12288, metric = 0.00% * 12288;\n",
      " Minibatch[ 157- 162]: loss = 2.007777 * 6144, metric = 0.00% * 6144;\n",
      " Minibatch[ 325- 336]: loss = 0.741041 * 12288, metric = 0.00% * 12288;\n",
      " Minibatch[ 163- 168]: loss = 2.111181 * 6144, metric = 0.00% * 6144;\n",
      " Minibatch[ 337- 348]: loss = 0.756551 * 12288, metric = 0.00% * 12288;\n",
      " Minibatch[ 169- 174]: loss = 2.031535 * 6144, metric = 0.00% * 6144;\n",
      " Minibatch[ 349- 360]: loss = 0.710480 * 12288, metric = 0.00% * 12288;\n",
      " Minibatch[ 175- 180]: loss = 2.004888 * 6144, metric = 0.00% * 6144;\n",
      " Minibatch[ 361- 372]: loss = 0.727371 * 12288, metric = 0.00% * 12288;\n",
      " Minibatch[ 181- 186]: loss = 1.976532 * 6144, metric = 0.00% * 6144;\n",
      " Minibatch[ 373- 384]: loss = 0.743497 * 12288, metric = 0.00% * 12288;\n",
      " Minibatch[ 187- 192]: loss = 1.990855 * 6144, metric = 0.00% * 6144;\n",
      " Minibatch[ 385- 396]: loss = 0.760445 * 12288, metric = 0.00% * 12288;\n",
      " Minibatch[ 193- 198]: loss = 2.029938 * 6144, metric = 0.00% * 6144;\n",
      " Minibatch[ 397- 408]: loss = 0.819761 * 12288, metric = 0.00% * 12288;\n",
      " Minibatch[ 199- 204]: loss = 1.885615 * 6144, metric = 0.00% * 6144;\n",
      " Minibatch[ 409- 420]: loss = 0.853579 * 12288, metric = 0.00% * 12288;\n",
      " Minibatch[ 205- 210]: loss = 1.934652 * 6144, metric = 0.00% * 6144;\n",
      " Minibatch[ 421- 432]: loss = 0.775312 * 12288, metric = 0.00% * 12288;\n",
      " Minibatch[ 211- 216]: loss = 1.911041 * 6144, metric = 0.00% * 6144;\n",
      " Minibatch[ 433- 444]: loss = 0.861313 * 12288, metric = 0.00% * 12288;\n",
      " Minibatch[ 217- 222]: loss = 2.000097 * 6144, metric = 0.00% * 6144;\n",
      " Minibatch[ 445- 456]: loss = 0.782710 * 12288, metric = 0.00% * 12288;\n",
      " Minibatch[ 223- 228]: loss = 2.022893 * 6144, metric = 0.00% * 6144;\n",
      " Minibatch[ 457- 468]: loss = 0.856557 * 12288, metric = 0.00% * 12288;\n",
      " Minibatch[ 229- 234]: loss = 1.885152 * 6144, metric = 0.00% * 6144;\n",
      " Minibatch[ 469- 480]: loss = 0.809509 * 12288, metric = 0.00% * 12288;\n",
      " Minibatch[ 235- 240]: loss = 2.036652 * 6144, metric = 0.00% * 6144;\n",
      " Minibatch[ 481- 492]: loss = 0.719838 * 12288, metric = 0.00% * 12288;\n",
      " Minibatch[ 241- 246]: loss = 1.989003 * 6144, metric = 0.00% * 6144;\n",
      " Minibatch[ 493- 504]: loss = 0.750417 * 12288, metric = 0.00% * 12288;\n",
      " Minibatch[ 247- 252]: loss = 2.003657 * 6144, metric = 0.00% * 6144;\n",
      " Minibatch[ 505- 516]: loss = 0.737246 * 12288, metric = 0.00% * 12288;\n",
      " Minibatch[ 253- 258]: loss = 2.061137 * 6144, metric = 0.00% * 6144;\n",
      " Minibatch[ 517- 528]: loss = 0.770650 * 12288, metric = 0.00% * 12288;\n",
      " Minibatch[ 259- 264]: loss = 1.956624 * 6144, metric = 0.00% * 6144;\n",
      " Minibatch[ 529- 540]: loss = 0.795789 * 12288, metric = 0.00% * 12288;\n",
      " Minibatch[ 265- 270]: loss = 2.071564 * 6144, metric = 0.00% * 6144;\n",
      " Minibatch[ 541- 552]: loss = 0.770205 * 12288, metric = 0.00% * 12288;\n",
      " Minibatch[ 271- 276]: loss = 1.978597 * 6144, metric = 0.00% * 6144;\n",
      " Minibatch[ 553- 564]: loss = 0.821027 * 12288, metric = 0.00% * 12288;\n",
      " Minibatch[ 277- 282]: loss = 2.078023 * 6144, metric = 0.00% * 6144;\n",
      " Minibatch[ 565- 576]: loss = 0.752085 * 12288, metric = 0.00% * 12288;\n",
      " Minibatch[ 283- 288]: loss = 2.121867 * 6144, metric = 0.00% * 6144;\n",
      " Minibatch[ 577- 588]: loss = 0.791077 * 12288, metric = 0.00% * 12288;\n",
      " Minibatch[ 289- 294]: loss = 2.031331 * 6144, metric = 0.00% * 6144;\n",
      " Minibatch[ 589- 600]: loss = 0.810560 * 12288, metric = 0.00% * 12288;\n",
      " Minibatch[ 295- 300]: loss = 1.987905 * 6144, metric = 0.00% * 6144;\n"
     ]
    }
   ],
   "source": [
    "reader_train = create_reader(train_file, True, d_input_dim, label_dim=10)\n",
    "\n",
    "G_input, G_output, G_trainer_loss = train(reader_train)"
   ]
  },
  {
   "cell_type": "code",
   "execution_count": 17,
   "metadata": {},
   "outputs": [
    {
     "name": "stdout",
     "output_type": "stream",
     "text": [
      "Training loss of the generator is: 1.92\n"
     ]
    }
   ],
   "source": [
    "# Print the generator loss \n",
    "print(\"Training loss of the generator is: {0:.2f}\".format(G_trainer_loss))"
   ]
  },
  {
   "cell_type": "markdown",
   "metadata": {},
   "source": [
    "## Generating Fake (Synthetic) Images\n",
    "\n",
    "Now that we have trained the model, we can create fake images simply by feeding random noise into the generator and displaying the outputs.  Below are a few images generated from random samples.  To get a new set of samples, you can re-run the last cell."
   ]
  },
  {
   "cell_type": "code",
   "execution_count": 18,
   "metadata": {
    "scrolled": true
   },
   "outputs": [
    {
     "data": {
      "image/png": "[encoded data removed]",
      "text/plain": [
       "<matplotlib.figure.Figure at 0x284d4a532e8>"
      ]
     },
     "metadata": {},
     "output_type": "display_data"
    }
   ],
   "source": [
    "def plot_images(images, subplot_shape):\n",
    "    plt.style.use('ggplot')\n",
    "    fig, axes = plt.subplots(*subplot_shape)\n",
    "    for image, ax in zip(images, axes.flatten()):\n",
    "        ax.imshow(image.reshape(28, 28), vmin = 0, vmax = 1.0, cmap = 'gray')\n",
    "        ax.axis('off')\n",
    "    plt.show()\n",
    "    \n",
    "noise = noise_sample(36)\n",
    "images = G_output.eval({G_input: noise})\n",
    "plot_images(images, subplot_shape =[6, 6])"
   ]
  },
  {
   "cell_type": "markdown",
   "metadata": {},
   "source": [
    "Larger number of iterations should generate more realistic looking MNIST images. A sampling of such generated images are shown below."
   ]
  },
  {
   "cell_type": "code",
   "execution_count": 19,
   "metadata": {},
   "outputs": [
    {
     "data": {
      "text/html": [
       "<img src=\"http://www.cntk.ai/jup/GAN_basic_slowmode.jpg\"/>"
      ],
      "text/plain": [
       "<IPython.core.display.Image object>"
      ]
     },
     "execution_count": 19,
     "metadata": {},
     "output_type": "execute_result"
    }
   ],
   "source": [
    "# Figure 3\n",
    "Image(url=\"http://www.cntk.ai/jup/GAN_basic_slowmode.jpg\")"
   ]
  },
  {
   "cell_type": "markdown",
   "metadata": {},
   "source": [
    "**Note**: It takes a large number of iterations to capture a representation of the real world signal. Even simple dense networks can be quite effective in modelling data albeit MNIST is a relatively simple dataset as well."
   ]
  },
  {
   "cell_type": "markdown",
   "metadata": {
    "collapsed": true
   },
   "source": [
    "**Suggested Task**\n",
    "\n",
    "- Explore the impact of changing the dimension of the input random noise (say from 100 to 10) in terms of computation time, loss and memory footprint for the same number of iterations.\n",
    "\n",
    "- Scale the image from 0 to 1. What other changes in the network are needed?\n",
    "\n",
    "- Performance is a key aspect to deep neural networks training. Study how the changing the minibatch sizes impact the performance both with regards to quality of the generated images and the time it takes to train a model.\n",
    "\n",
    "- Try generating fake images using the CIFAR-10 data set as the training data. How does the network above perform?\n"
   ]
  }
 ],
 "metadata": {
  "anaconda-cloud": {},
  "kernelspec": {
   "display_name": "Python 3",
   "language": "python",
   "name": "python3"
  },
  "language_info": {
   "codemirror_mode": {
    "name": "ipython",
    "version": 3
   },
   "file_extension": ".py",
   "mimetype": "text/x-python",
   "name": "python",
   "nbconvert_exporter": "python",
   "pygments_lexer": "ipython3",
   "version": "3.5.2"
  }
 },
 "nbformat": 4,
 "nbformat_minor": 2
}
