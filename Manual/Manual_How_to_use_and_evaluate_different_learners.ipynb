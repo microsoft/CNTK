{
 "cells": [
  {
   "cell_type": "markdown",
   "metadata": {},
   "source": [
    "In this tutorial, we will show how to use the [code](https://github.com/Microsoft/CNTK/blob/master/Examples/Image/Classification/ResNet/Python/TrainResNet_CIFAR10.py) in the Examples directory to evaluate the performance (i.e., time cost, loss, metric) of different learners (i.e., sgd, momentum_sgd, nesterov, adam) on the classification task of CIFAR-10 dataset using ResNet model.\n",
    "\n",
    "The structure of this tutorial are organized as follows: we first introduce the CIFAR-10 dataset, ResNet model, and different learners. Then we will show how to use these learners during the training of ResNet model on the CIFAR-10 dataset, after which we will plot the time cost, loss, and metric trends by time."
   ]
  },
  {
   "cell_type": "markdown",
   "metadata": {},
   "source": [
    "## CIFAR-10\n",
    "\n",
    "### Dataset\n",
    "\n",
    "The CIFAR-10 dataset [2] contains 6k 32×32 color images for each of 10\n",
    "classes, therefore there are 60k images in total. \n",
    "\n",
    "The 10 classes are: airplane, automobile, bird, cat, deer, dog, frog, horse, ship, truck.\n",
    "\n",
    "Note that these classes are mutual exclusive.\n",
    "\n",
    "The whole set is further divided into 5 training sets and 1 test set, with 10k\n",
    "images for each. \n",
    "\n",
    "The test set contains exactly 1k for each class, while this condition\n",
    "is not necessary for the training sets.\n",
    "\n",
    "### Download\n",
    "\n",
    "We can use this [script](https://github.com/Microsoft/CNTK/tree/master/Examples/Image/DataSets/CIFAR-10/install_cifar10.py)  to download the dataset. Simple run the following command in a terminal:\n",
    "\n",
    "```bash\n",
    "cd Examples/Image/DataSets/CIFAR-10\n",
    "python install_cifar10.py\n",
    "```\n",
    "\n",
    "**Note**: Error is encountered when I run this script on my Ubuntu 17.04 64 bit machine, while it runs well on my Win10 64bit machine.\n",
    "\n",
    "The tree structure of the whole dataset is as follows:\n",
    "* `cifar-10-batches-py` includes 5 training batches and one test batch.\n",
    "* `train` and `test`: include the 60k `.png` files.\n",
    "* `train_map.txt` and `test_map.txt` maintain the location of each `.png` image and corresponding label.\n",
    "* `Train_cntk_text.txt` and `Test_cntk_text.txt` have a label and corresponding features (pixel level, 32 * 32 * 3) for one image at each line."
   ]
  },
  {
   "cell_type": "code",
   "execution_count": 1,
   "metadata": {
    "collapsed": false
   },
   "outputs": [
    {
     "name": "stdout",
     "output_type": "stream",
     "text": [
      "C:\\repos\\CNTK\\Manual\\..\\Examples\\Image\\DataSets\\CIFAR-10\n"
     ]
    }
   ],
   "source": [
    "import os\n",
    "\n",
    "# Paths relative to current python file.\n",
    "abs_path = os.path.dirname(os.path.abspath('__file__'))\n",
    "data_path = os.path.join(abs_path, \"..\", \"Examples\", \"Image\", \"DataSets\", \"CIFAR-10\")\n",
    "\n",
    "import sys\n",
    "sys.path.append(data_path)\n",
    "\n",
    "import cifar_utils as ut\n",
    "print(data_path)"
   ]
  },
  {
   "cell_type": "code",
   "execution_count": 2,
   "metadata": {
    "collapsed": false
   },
   "outputs": [],
   "source": [
    "if not os.path.exists(data_path + '/' + 'cifar-10-batches-py'):\n",
    "    trn, tst= ut.loadData('http://www.cs.toronto.edu/~kriz/cifar-10-python.tar.gz')\n",
    "\n",
    "    print ('Writing train text file...')\n",
    "    ut.saveTxt(data_path + '/Train_cntk_text.txt', trn)\n",
    "    print ('Done.')\n",
    "    print ('Writing test text file...')\n",
    "    ut.saveTxt(data_path + '/Test_cntk_text.txt', tst)\n",
    "    print ('Done.')\n",
    "    \n",
    "    print ('Converting train data to png images...')\n",
    "    ut.saveTrainImages(data_path + '/Train_cntk_text.txt', data_path + '/train')\n",
    "    print ('Done.')\n",
    "    print ('Converting test data to png images...')\n",
    "    ut.saveTestImages(data_path + '/Test_cntk_text.txt', data_path + '/test')\n",
    "    print ('Done.')\n",
    "    \n",
    "    for name in ['test_map.txt', 'test_regrLabels.txt', 'train_map.txt', 'train_regrLabels.txt', 'cifar-10-batches-py']:\n",
    "    \n",
    "        if os.path.exists(data_path + '/' + name):\n",
    "            continue\n",
    "        os.rename(name, data_path + '/' + name)"
   ]
  },
  {
   "cell_type": "markdown",
   "metadata": {},
   "source": [
    "## ResNet20\n",
    "\n",
    "### Model\n",
    "\n",
    "The residual network is described in Subsection 4.2 of the original paper [1]. Here we copy some sentences for integrity.\n",
    "\n",
    "> The network inputs are 32×32 images, with\n",
    "the per-pixel mean subtracted. The first layer is 3×3 convolutions.\n",
    "Then we use a stack of 6n layers with 3×3 convolutions\n",
    "on the feature maps of sizes {32, 16, 8} respectively,\n",
    "with 2n layers for each feature map size. The numbers of\n",
    "filters are {16, 32, 64} respectively. The subsampling is performed\n",
    "by convolutions with a stride of 2. The network ends\n",
    "with a global average pooling, a 10-way fully-connected\n",
    "layer, and softmax. There are totally 6n+2 stacked weighted\n",
    "layers. \n",
    "\n",
    "When n = 3, the number of layers is exactly 20.\n",
    "\n",
    "**Note**: here a CPU-only cntk distribution will not apply.\n",
    "\n",
    "### Implementation\n",
    "\n",
    "In the main [code](https://github.com/Microsoft/CNTK/blob/master/Examples/Image/Classification/ResNet/Python/TrainResNet_CIFAR10.py), we can see this line of code\n",
    "```\n",
    "if network_name == 'resnet20':\n",
    "    z = create_cifar10_model(graph_input, 3, num_classes)\n",
    "    lr_per_mb = [1.0]*80 + [0.1]*40 + [0.01]\n",
    "```\n",
    "\n",
    "The `create_cifar10_model` details are accessible [here](https://github.com/Microsoft/CNTK/blob/master/Examples/Image/Classification/ResNet/Python/resnet_models.py)."
   ]
  },
  {
   "cell_type": "markdown",
   "metadata": {},
   "source": [
    "## Learners\n",
    "\n",
    "We compare four different learners here: sgd, momentum_sgd, nesterov, adam. \n",
    "\n",
    "An overview of gradient descent optimization algorithms can be found in [4]."
   ]
  },
  {
   "cell_type": "markdown",
   "metadata": {},
   "source": [
    "## Train and Evaluate"
   ]
  },
  {
   "cell_type": "markdown",
   "metadata": {},
   "source": [
    "Let us just copy and paste some code from [here](https://github.com/Microsoft/CNTK/blob/master/Examples/Image/Classification/ResNet/Python/TrainResNet_CIFAR10.py) so that we do not make wheels ourselves again."
   ]
  },
  {
   "cell_type": "code",
   "execution_count": 3,
   "metadata": {
    "collapsed": false
   },
   "outputs": [],
   "source": [
    "%matplotlib inline\n",
    "\n",
    "import os\n",
    "\n",
    "# Paths relative to current python file.\n",
    "abs_path = os.path.dirname(os.path.abspath('__file__'))\n",
    "code_path = os.path.join(abs_path, \"..\", \"Examples\", \"Image\", \"Classification\", \"ResNet\", \"Python\")\n",
    "\n",
    "code_path\n",
    "import sys\n",
    "sys.path.append(code_path)\n",
    "\n",
    "from TrainResNet_CIFAR10 import *"
   ]
  },
  {
   "cell_type": "markdown",
   "metadata": {},
   "source": [
    "We define some variables that will be used in our training process, rather than input by command line parameters.\n",
    "\n",
    "* `epochs`: how many times we go through the whole training set\n",
    "* `epoch_size`: how many instances we use in our training set"
   ]
  },
  {
   "cell_type": "code",
   "execution_count": 4,
   "metadata": {
    "collapsed": true
   },
   "outputs": [],
   "source": [
    "network_name = 'resnet20'\n",
    "\n",
    "model_dir = os.path.join(abs_path, \"Models\")\n",
    "\n",
    "epochs = 160\n",
    "epoch_size = 50000\n",
    "epochs = 16 # FIXME: we use a small training set to save time, comment this line out when you do experiment yourself.\n",
    "epoch_size = 1000 "
   ]
  },
  {
   "cell_type": "markdown",
   "metadata": {},
   "source": [
    "The loss and metric used in the sample code is shown in:\n",
    "\n",
    "```\n",
    "        # loss and metric\n",
    "        ce = cross_entropy_with_softmax(z, graph_label)\n",
    "        pe = classification_error(z, graph_label)\n",
    "```\n",
    "\n",
    "The learner in the original code is set fixed as `momentum_sgd`:\n",
    "\n",
    "```\n",
    "    # trainer object\n",
    "    learner = momentum_sgd(z.parameters, lr_schedule, mm_schedule,\n",
    "                           l2_regularization_weight=l2_reg_weight)\n",
    "    trainer = Trainer(z, (ce, pe), learner, progress_writers)\n",
    "```    \n",
    "\n",
    "So we need to do a simple modification of the `train_and_evaluate` function to add a new parameter called `learner` to make our life easier."
   ]
  },
  {
   "cell_type": "code",
   "execution_count": 5,
   "metadata": {
    "collapsed": true
   },
   "outputs": [],
   "source": [
    "from cntk.learners import adam, nesterov, sgd, momentum_sgd, learning_rate_schedule, momentum_as_time_constant_schedule, UnitType\n",
    "# Train and evaluate the network.\n",
    "def train_and_evaluate(reader_train, reader_test, network_name, epoch_size, max_epochs, learner, profiler_dir=None,\n",
    "                       model_dir=None, log_dir=None, tensorboard_logdir=None, gen_heartbeat=False, fp16=False):\n",
    "\n",
    "    set_computation_network_trace_level(0)\n",
    "\n",
    "    # Input variables denoting the features and label data\n",
    "    input_var = C.input_variable((num_channels, image_height, image_width), name='features')\n",
    "    label_var = C.input_variable((num_classes))\n",
    "\n",
    "    dtype = np.float16 if fp16 else np.float32\n",
    "    if fp16:\n",
    "        graph_input = C.cast(input_var, dtype=np.float16)\n",
    "        graph_label = C.cast(label_var, dtype=np.float16)\n",
    "    else:\n",
    "        graph_input = input_var\n",
    "        graph_label = label_var\n",
    "\n",
    "    with C.default_options(dtype=dtype):\n",
    "        # create model, and configure learning parameters\n",
    "        if network_name == 'resnet20':\n",
    "            z = create_cifar10_model(graph_input, 3, num_classes)\n",
    "            lr_per_mb = [1.0]*80 + [0.1]*40 + [0.01]\n",
    "        elif network_name == 'resnet110':\n",
    "            z = create_cifar10_model(graph_input, 18, num_classes)\n",
    "            lr_per_mb = [0.1]*1 + [1.0]*80 + [0.1]*40 + [0.01]\n",
    "        else:\n",
    "            raise RuntimeError(\"Unknown model name!\")\n",
    "\n",
    "        # loss and metric\n",
    "        ce = cross_entropy_with_softmax(z, graph_label)\n",
    "        pe = classification_error(z, graph_label)\n",
    "\n",
    "    if fp16:\n",
    "        ce = C.cast(ce, dtype=np.float32)\n",
    "        pe = C.cast(pe, dtype=np.float32)\n",
    "\n",
    "    # shared training parameters\n",
    "    minibatch_size = 128\n",
    "    l2_reg_weight = 0.0001\n",
    "\n",
    "    # Set learning parameters\n",
    "    lr_per_sample = [lr/minibatch_size for lr in lr_per_mb]\n",
    "    lr_schedule = learning_parameter_schedule_per_sample(lr_per_sample, epoch_size=epoch_size)\n",
    "    mm_schedule = momentum_schedule(0.9, minibatch_size)\n",
    "\n",
    "    # progress writers\n",
    "    progress_writers = [ProgressPrinter(tag='Training', log_to_file=\"{}{}.log\".format(log_dir,learner), num_epochs=max_epochs, gen_heartbeat=gen_heartbeat)]\n",
    "    tensorboard_writer = None\n",
    "    if tensorboard_logdir is not None:\n",
    "        tensorboard_writer = TensorBoardProgressWriter(freq=10, log_dir=tensorboard_logdir, model=z)\n",
    "        progress_writers.append(tensorboard_writer)\n",
    "\n",
    "    print(learner)\n",
    "    # trainer object\n",
    "    if learner == 'sgd':\n",
    "        learner = sgd(z.parameters, lr_schedule, \n",
    "                      l2_regularization_weight = l2_reg_weight)\n",
    "    elif learner == 'momentum_sgd':\n",
    "        learner = momentum_sgd(z.parameters, lr_schedule, mm_schedule,\n",
    "                               l2_regularization_weight=l2_reg_weight)\n",
    "    elif learner == 'nesterov':\n",
    "        learner = nesterov(z.parameters, lr_schedule, mm_schedule,\n",
    "                           l2_regularization_weight = l2_reg_weight)\n",
    "    elif learner == 'adam':\n",
    "        learner = adam(z.parameters, lr_schedule, mm_schedule,\n",
    "                       l2_regularization_weight = l2_reg_weight)                      \n",
    "        \n",
    "    trainer = Trainer(z, (ce, pe), learner, progress_writers)\n",
    "\n",
    "    # define mapping from reader streams to network inputs\n",
    "    input_map = {\n",
    "        input_var: reader_train.streams.features,\n",
    "        label_var: reader_train.streams.labels\n",
    "    }\n",
    "\n",
    "    log_number_of_parameters(z) ; print()\n",
    "\n",
    "    # perform model training\n",
    "    if profiler_dir:\n",
    "        start_profiler(profiler_dir, True)\n",
    "\n",
    "    for epoch in range(max_epochs):       # loop over epochs\n",
    "        sample_count = 0\n",
    "        while sample_count < epoch_size:  # loop over minibatches in the epoch\n",
    "            data = reader_train.next_minibatch(min(minibatch_size, epoch_size-sample_count), input_map=input_map) # fetch minibatch.\n",
    "            trainer.train_minibatch(data)                                   # update model with it\n",
    "            sample_count += trainer.previous_minibatch_sample_count         # count samples processed so far\n",
    "\n",
    "        trainer.summarize_training_progress()\n",
    "\n",
    "        # Log mean of each parameter tensor, so that we can confirm that the parameters change indeed.\n",
    "        if tensorboard_writer:\n",
    "            for parameter in z.parameters:\n",
    "                tensorboard_writer.write_value(parameter.uid + \"/mean\", reduce_mean(parameter).eval(), epoch)\n",
    "\n",
    "        if model_dir:\n",
    "            z.save(os.path.join(model_dir, network_name + \"_{}.dnn\".format(epoch)))\n",
    "        enable_profiler() # begin to collect profiler data after first epoch\n",
    "\n",
    "    if profiler_dir:\n",
    "        stop_profiler()\n",
    "\n",
    "    # Evaluation parameters\n",
    "    test_epoch_size = 100 # 10000\n",
    "    minibatch_size = 16\n",
    "\n",
    "    # process minibatches and evaluate the model\n",
    "    metric_numer = 0\n",
    "    metric_denom = 0\n",
    "    sample_count = 0\n",
    "\n",
    "    while sample_count < test_epoch_size:\n",
    "        current_minibatch = min(minibatch_size, test_epoch_size - sample_count)\n",
    "        # Fetch next test min batch.\n",
    "        data = reader_test.next_minibatch(current_minibatch, input_map=input_map)\n",
    "        # minibatch data to be trained with\n",
    "        metric_numer += trainer.test_minibatch(data) * current_minibatch\n",
    "        metric_denom += current_minibatch\n",
    "        # Keep track of the number of samples processed so far.\n",
    "        sample_count += data[label_var].num_samples\n",
    "\n",
    "    print(\"\")\n",
    "    trainer.summarize_test_progress()\n",
    "    print(\"\")\n",
    "\n",
    "    return metric_numer/metric_denom"
   ]
  },
  {
   "cell_type": "code",
   "execution_count": 6,
   "metadata": {
    "collapsed": false
   },
   "outputs": [
    {
     "name": "stderr",
     "output_type": "stream",
     "text": [
      "C:\\local\\Anaconda3-4.1.1-Windows-x86_64\\lib\\site-packages\\cntk\\learners\\__init__.py:340: RuntimeWarning: When providing the schedule as a number, epoch_size is ignored\n",
      "  warnings.warn('When providing the schedule as a number, epoch_size is ignored', RuntimeWarning)\n"
     ]
    },
    {
     "name": "stdout",
     "output_type": "stream",
     "text": [
      "Redirecting log to file log/adam.log\n",
      "adam\n",
      "Training 272474 parameters in 65 parameter tensors.\n",
      "\n",
      "\n",
      "\n",
      "Redirecting log to file log/momentum_sgd.log\n",
      "momentum_sgd\n",
      "Training 272474 parameters in 65 parameter tensors.\n",
      "\n",
      "\n",
      "\n",
      "Redirecting log to file log/nesterov.log\n",
      "nesterov\n",
      "Training 272474 parameters in 65 parameter tensors.\n",
      "\n",
      "\n",
      "\n",
      "Redirecting log to file log/sgd.log\n",
      "sgd\n",
      "Training 272474 parameters in 65 parameter tensors.\n",
      "\n",
      "\n",
      "\n"
     ]
    }
   ],
   "source": [
    "log_dir='log/'\n",
    "\n",
    "if not os.path.exists(log_dir):\n",
    "    os.makedirs(log_dir)\n",
    "\n",
    "learners = ['adam', 'momentum_sgd', 'nesterov', 'sgd']\n",
    "for learner in learners:\n",
    "    reader_train = create_image_mb_source(os.path.join(data_path, 'train_map.txt'), os.path.join(data_path, 'CIFAR-10_mean.xml'), True, total_number_of_samples=epochs * epoch_size)\n",
    "    reader_test = create_image_mb_source(os.path.join(data_path, 'test_map.txt'), os.path.join(data_path, 'CIFAR-10_mean.xml'), False, total_number_of_samples=C.io.FULL_DATA_SWEEP)\n",
    "    train_and_evaluate(reader_train, reader_test, network_name, epoch_size, epochs, learner=learner, model_dir=model_dir, log_dir=log_dir)"
   ]
  },
  {
   "cell_type": "markdown",
   "metadata": {},
   "source": [
    "Now all the logs will be written into the file `sgd.log`. Then we want to parse the raw log content to some stuctured format, so that we can plot a picture based on the numbers, which is more insightful for human like us. We define the function like this:"
   ]
  },
  {
   "cell_type": "code",
   "execution_count": 7,
   "metadata": {
    "collapsed": true
   },
   "outputs": [],
   "source": [
    "import re\n",
    "\n",
    "def parse_line(line):\n",
    "    '''\n",
    "    input: Finished Epoch[150 of 160]: [Training] loss = 0.027842 * 50000, metric = 0.82% * 50000 29.980s (1667.8 samples/s);\n",
    "    output: 0.027842, 0.82, 29.980\n",
    "    '''\n",
    "    m = re.match(r\"Finished Epoch\\[(.+) of {}\\]: \\[Training\\] loss = (.+) \\* {}, metric = (.+)% \\* {} (.+)s \\((.+) samples/s\\);\".format(epochs, epoch_size, epoch_size), \n",
    "                 line.strip())\n",
    "    if m:\n",
    "        return map(float, [m.group(2), m.group(3), m.group(4)])\n",
    "    return None, None, None\n",
    "\n",
    "def parse_file(file_name):\n",
    "    '''\n",
    "    input: the log file generated by cntk.logging when training ResNet-20\n",
    "    output: three arrays, corresponding to the loss, metric, time of each epoch\n",
    "    '''\n",
    "    loss = []\n",
    "    metric = []\n",
    "    time = []\n",
    "    \n",
    "    with open(file_name) as f:\n",
    "        line = f.readline()\n",
    "        while line:\n",
    "            l, m, t = parse_line(line)\n",
    "            line = f.readline()\n",
    "            if l == None:\n",
    "                continue\n",
    "            loss.append(l)\n",
    "            metric.append(m)\n",
    "            time.append(t)  \n",
    "    return loss, metric, time"
   ]
  },
  {
   "cell_type": "markdown",
   "metadata": {},
   "source": [
    "After we distill the numbers out of the target log file, we can use `matplotlib` to draw a picture:"
   ]
  },
  {
   "cell_type": "code",
   "execution_count": 8,
   "metadata": {
    "collapsed": true,
    "scrolled": true
   },
   "outputs": [],
   "source": [
    "import matplotlib.pyplot as plt\n",
    "\n",
    "def plot(losses, labels, title):\n",
    "    plt.clf()\n",
    "    colors = ['r','g','b', 'y']\n",
    "    for i, loss in enumerate(losses):\n",
    "        x = range(len(loss))\n",
    "        plt.plot(x, loss, color=colors[i], label=labels[i])\n",
    "    # plt.savefig(img_file + '.png')\n",
    "    plt.legend()\n",
    "    plt.title(title) \n",
    "    plt.show()"
   ]
  },
  {
   "cell_type": "markdown",
   "metadata": {},
   "source": [
    "The whole main function looks as follows:"
   ]
  },
  {
   "cell_type": "code",
   "execution_count": 9,
   "metadata": {
    "collapsed": false
   },
   "outputs": [
    {
     "data": {
      "image/png": "[encoded data removed]",
      "text/plain": [
       "<matplotlib.figure.Figure at 0x25c9ba2a208>"
      ]
     },
     "metadata": {},
     "output_type": "display_data"
    },
    {
     "data": {
      "image/png": "[encoded data removed]",
      "text/plain": [
       "<matplotlib.figure.Figure at 0x25c9ba2a3c8>"
      ]
     },
     "metadata": {},
     "output_type": "display_data"
    },
    {
     "data": {
      "image/png": "[encoded data removed]",
      "text/plain": [
       "<matplotlib.figure.Figure at 0x25c9c0605f8>"
      ]
     },
     "metadata": {},
     "output_type": "display_data"
    }
   ],
   "source": [
    "log_files = ['log/{}.log'.format(learner) for learner in learners]\n",
    "\n",
    "losses = [None]*len(log_files)\n",
    "metrics = [None]*len(log_files)\n",
    "times = [None]*len(log_files)\n",
    "for i, log_file in enumerate(log_files):\n",
    "    losses[i], metrics[i], times[i] = parse_file(log_file)\n",
    "\n",
    "plot(losses, learners, 'losses')\n",
    "plot(metrics, learners, 'metric')\n",
    "plot(times, learners, 'times')                "
   ]
  },
  {
   "cell_type": "markdown",
   "metadata": {},
   "source": [
    "We can see that the performace indicate that under this task and this dataset, the learners `nesterov > momentum_sgd > adam > sgd`, while the time spent for each epoch display a reversed order."
   ]
  },
  {
   "cell_type": "markdown",
   "metadata": {},
   "source": [
    "## Conclusion\n",
    "\n"
   ]
  },
  {
   "cell_type": "markdown",
   "metadata": {},
   "source": [
    "In this manual, we introduced the CIFAR-10 dataset and the esNet model, we then use different learners to optimize the model parameters and show the history of training process. After dipecting some graphs, we can see nesterov learner performs best among the several learners we picked."
   ]
  },
  {
   "cell_type": "markdown",
   "metadata": {},
   "source": [
    "## References\n",
    "\n",
    "[1] Kaiming He, Xiangyu Zhang, Shaoqing Ren, and Jian Sun. Deep residual\n",
    "learning for image recognition. In Proceedings of the IEEE Conference on\n",
    "Computer Vision and Pattern Recognition, pages 770–778, 2016.\n",
    "\n",
    "[2] Alex Krizhevsky and Geoffrey Hinton. Learning multiple layers of features \n",
    "from tiny images. 2009\n",
    "\n",
    "[3] Matthew D Zeiler. Adadelta: an adaptive learning rate method. arXiv\n",
    "preprint arXiv:1212.5701, 2012.\n",
    "\n",
    "[4] Ruder, Sebastian. \"An overview of gradient descent optimization algorithms.\" arXiv preprint arXiv:1609.04747 (2016)."
   ]
  }
 ],
 "metadata": {
  "anaconda-cloud": {},
  "kernelspec": {
   "display_name": "Python [Root]",
   "language": "python",
   "name": "Python [Root]"
  },
  "language_info": {
   "codemirror_mode": {
    "name": "ipython",
    "version": 3
   },
   "file_extension": ".py",
   "mimetype": "text/x-python",
   "name": "python",
   "nbconvert_exporter": "python",
   "pygments_lexer": "ipython3",
   "version": "3.5.2"
  }
 },
 "nbformat": 4,
 "nbformat_minor": 1
}
